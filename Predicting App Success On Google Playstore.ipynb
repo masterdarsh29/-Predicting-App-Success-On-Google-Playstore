{
 "cells": [
  {
   "cell_type": "markdown",
   "id": "593cdeb0",
   "metadata": {},
   "source": [
    "# Project Title:  Predicting App Success On Google Playstore"
   ]
  },
  {
   "cell_type": "markdown",
   "id": "501accbb",
   "metadata": {},
   "source": [
    "# 1. Introduction to the Dataset:\n"
   ]
  },
  {
   "cell_type": "markdown",
   "id": "02929635",
   "metadata": {},
   "source": [
    "# 1.1. Welcome to the world of mobile apps! The Google Play Store, like a giant market, is home to a ton of apps that cover all sorts of interests. Let's dive into the data and uncover the exciting insights it holds!"
   ]
  },
  {
   "cell_type": "markdown",
   "id": "074e3c97",
   "metadata": {},
   "source": [
    "# 1.3. Importing the dependecies"
   ]
  },
  {
   "cell_type": "code",
   "execution_count": 25,
   "id": "bc753455",
   "metadata": {},
   "outputs": [
    {
     "name": "stdout",
     "output_type": "stream",
     "text": [
      "Requirement already satisfied: CurrencyConverter in c:\\users\\admin\\anaconda3\\lib\\site-packages (0.17.16)\n"
     ]
    }
   ],
   "source": [
    "import pandas as pd\n",
    "import numpy as np\n",
    "from sklearn.preprocessing import LabelEncoder\n",
    "!pip install CurrencyConverter\n",
    "from currency_converter import CurrencyConverter\n",
    "import matplotlib.pyplot as plt\n",
    "import seaborn as sns\n",
    "import warnings\n",
    "from sklearn.preprocessing import LabelEncoder\n",
    "from sklearn.metrics import r2_score\n",
    "from sklearn.linear_model import LinearRegression\n",
    "from sklearn.tree import DecisionTreeRegressor\n",
    "from sklearn.ensemble import  RandomForestRegressor\n",
    "from keras.layers import Dense,BatchNormalization,Flatten\n",
    "from keras.models import Sequential\n",
    "import keras\n",
    "from keras.metrics import mean_absolute_error\n",
    "warnings.filterwarnings('ignore')\n"
   ]
  },
  {
   "cell_type": "markdown",
   "id": "d4a994ed",
   "metadata": {},
   "source": [
    "# 2. Data Preparation and Cleaning"
   ]
  },
  {
   "cell_type": "raw",
   "id": "99e1b392",
   "metadata": {},
   "source": [
    "- load the csv file with pandas\n",
    "- creating the dataframe and understanding the data present in the dataset\n",
    "- dealing with the missing data and the incorrect records"
   ]
  },
  {
   "cell_type": "code",
   "execution_count": null,
   "id": "e69c805e",
   "metadata": {},
   "outputs": [],
   "source": [
    "df=pd.read_csv(\"Google-Playstore.csv\")\n"
   ]
  },
  {
   "cell_type": "code",
   "execution_count": 2,
   "id": "ca0ea677",
   "metadata": {},
   "outputs": [
    {
     "data": {
      "text/html": [
       "<div>\n",
       "<style scoped>\n",
       "    .dataframe tbody tr th:only-of-type {\n",
       "        vertical-align: middle;\n",
       "    }\n",
       "\n",
       "    .dataframe tbody tr th {\n",
       "        vertical-align: top;\n",
       "    }\n",
       "\n",
       "    .dataframe thead th {\n",
       "        text-align: right;\n",
       "    }\n",
       "</style>\n",
       "<table border=\"1\" class=\"dataframe\">\n",
       "  <thead>\n",
       "    <tr style=\"text-align: right;\">\n",
       "      <th></th>\n",
       "      <th>App Name</th>\n",
       "      <th>App Id</th>\n",
       "      <th>Category</th>\n",
       "      <th>Rating</th>\n",
       "      <th>Rating Count</th>\n",
       "      <th>Installs</th>\n",
       "      <th>Minimum Installs</th>\n",
       "      <th>Maximum Installs</th>\n",
       "      <th>Free</th>\n",
       "      <th>Price</th>\n",
       "      <th>...</th>\n",
       "      <th>Developer Website</th>\n",
       "      <th>Developer Email</th>\n",
       "      <th>Released</th>\n",
       "      <th>Last Updated</th>\n",
       "      <th>Content Rating</th>\n",
       "      <th>Privacy Policy</th>\n",
       "      <th>Ad Supported</th>\n",
       "      <th>In App Purchases</th>\n",
       "      <th>Editors Choice</th>\n",
       "      <th>Scraped Time</th>\n",
       "    </tr>\n",
       "  </thead>\n",
       "  <tbody>\n",
       "    <tr>\n",
       "      <th>0</th>\n",
       "      <td>Gakondo</td>\n",
       "      <td>com.ishakwe.gakondo</td>\n",
       "      <td>Adventure</td>\n",
       "      <td>0.0</td>\n",
       "      <td>0.0</td>\n",
       "      <td>10+</td>\n",
       "      <td>10.0</td>\n",
       "      <td>15</td>\n",
       "      <td>True</td>\n",
       "      <td>0.0</td>\n",
       "      <td>...</td>\n",
       "      <td>https://beniyizibyose.tk/#/</td>\n",
       "      <td>jean21101999@gmail.com</td>\n",
       "      <td>Feb 26, 2020</td>\n",
       "      <td>Feb 26, 2020</td>\n",
       "      <td>Everyone</td>\n",
       "      <td>https://beniyizibyose.tk/projects/</td>\n",
       "      <td>False</td>\n",
       "      <td>False</td>\n",
       "      <td>False</td>\n",
       "      <td>2021-06-15 20:19:35</td>\n",
       "    </tr>\n",
       "    <tr>\n",
       "      <th>1</th>\n",
       "      <td>Ampere Battery Info</td>\n",
       "      <td>com.webserveis.batteryinfo</td>\n",
       "      <td>Tools</td>\n",
       "      <td>4.4</td>\n",
       "      <td>64.0</td>\n",
       "      <td>5,000+</td>\n",
       "      <td>5000.0</td>\n",
       "      <td>7662</td>\n",
       "      <td>True</td>\n",
       "      <td>0.0</td>\n",
       "      <td>...</td>\n",
       "      <td>https://webserveis.netlify.app/</td>\n",
       "      <td>webserveis@gmail.com</td>\n",
       "      <td>May 21, 2020</td>\n",
       "      <td>May 06, 2021</td>\n",
       "      <td>Everyone</td>\n",
       "      <td>https://dev4phones.wordpress.com/licencia-de-uso/</td>\n",
       "      <td>True</td>\n",
       "      <td>False</td>\n",
       "      <td>False</td>\n",
       "      <td>2021-06-15 20:19:35</td>\n",
       "    </tr>\n",
       "    <tr>\n",
       "      <th>2</th>\n",
       "      <td>Vibook</td>\n",
       "      <td>com.doantiepvien.crm</td>\n",
       "      <td>Productivity</td>\n",
       "      <td>0.0</td>\n",
       "      <td>0.0</td>\n",
       "      <td>50+</td>\n",
       "      <td>50.0</td>\n",
       "      <td>58</td>\n",
       "      <td>True</td>\n",
       "      <td>0.0</td>\n",
       "      <td>...</td>\n",
       "      <td>NaN</td>\n",
       "      <td>vnacrewit@gmail.com</td>\n",
       "      <td>Aug 9, 2019</td>\n",
       "      <td>Aug 19, 2019</td>\n",
       "      <td>Everyone</td>\n",
       "      <td>https://www.vietnamairlines.com/vn/en/terms-an...</td>\n",
       "      <td>False</td>\n",
       "      <td>False</td>\n",
       "      <td>False</td>\n",
       "      <td>2021-06-15 20:19:35</td>\n",
       "    </tr>\n",
       "    <tr>\n",
       "      <th>3</th>\n",
       "      <td>Smart City Trichy Public Service Vehicles 17UC...</td>\n",
       "      <td>cst.stJoseph.ug17ucs548</td>\n",
       "      <td>Communication</td>\n",
       "      <td>5.0</td>\n",
       "      <td>5.0</td>\n",
       "      <td>10+</td>\n",
       "      <td>10.0</td>\n",
       "      <td>19</td>\n",
       "      <td>True</td>\n",
       "      <td>0.0</td>\n",
       "      <td>...</td>\n",
       "      <td>http://www.climatesmarttech.com/</td>\n",
       "      <td>climatesmarttech2@gmail.com</td>\n",
       "      <td>Sep 10, 2018</td>\n",
       "      <td>Oct 13, 2018</td>\n",
       "      <td>Everyone</td>\n",
       "      <td>NaN</td>\n",
       "      <td>True</td>\n",
       "      <td>False</td>\n",
       "      <td>False</td>\n",
       "      <td>2021-06-15 20:19:35</td>\n",
       "    </tr>\n",
       "    <tr>\n",
       "      <th>4</th>\n",
       "      <td>GROW.me</td>\n",
       "      <td>com.horodyski.grower</td>\n",
       "      <td>Tools</td>\n",
       "      <td>0.0</td>\n",
       "      <td>0.0</td>\n",
       "      <td>100+</td>\n",
       "      <td>100.0</td>\n",
       "      <td>478</td>\n",
       "      <td>True</td>\n",
       "      <td>0.0</td>\n",
       "      <td>...</td>\n",
       "      <td>http://www.horodyski.com.pl</td>\n",
       "      <td>rmilekhorodyski@gmail.com</td>\n",
       "      <td>Feb 21, 2020</td>\n",
       "      <td>Nov 12, 2018</td>\n",
       "      <td>Everyone</td>\n",
       "      <td>http://www.horodyski.com.pl</td>\n",
       "      <td>False</td>\n",
       "      <td>False</td>\n",
       "      <td>False</td>\n",
       "      <td>2021-06-15 20:19:35</td>\n",
       "    </tr>\n",
       "    <tr>\n",
       "      <th>5</th>\n",
       "      <td>IMOCCI</td>\n",
       "      <td>com.imocci</td>\n",
       "      <td>Social</td>\n",
       "      <td>0.0</td>\n",
       "      <td>0.0</td>\n",
       "      <td>50+</td>\n",
       "      <td>50.0</td>\n",
       "      <td>89</td>\n",
       "      <td>True</td>\n",
       "      <td>0.0</td>\n",
       "      <td>...</td>\n",
       "      <td>http://www.imocci.com</td>\n",
       "      <td>info@imocci.com</td>\n",
       "      <td>Dec 24, 2018</td>\n",
       "      <td>Dec 20, 2019</td>\n",
       "      <td>Teen</td>\n",
       "      <td>https://www.imocci.com/wp-content/uploads/2018...</td>\n",
       "      <td>False</td>\n",
       "      <td>True</td>\n",
       "      <td>False</td>\n",
       "      <td>2021-06-15 20:19:35</td>\n",
       "    </tr>\n",
       "    <tr>\n",
       "      <th>6</th>\n",
       "      <td>unlimited 4G data prank free app</td>\n",
       "      <td>getfreedata.superfatiza.unlimitedjiodataprank</td>\n",
       "      <td>Libraries &amp; Demo</td>\n",
       "      <td>4.5</td>\n",
       "      <td>12.0</td>\n",
       "      <td>1,000+</td>\n",
       "      <td>1000.0</td>\n",
       "      <td>2567</td>\n",
       "      <td>True</td>\n",
       "      <td>0.0</td>\n",
       "      <td>...</td>\n",
       "      <td>NaN</td>\n",
       "      <td>aitomgharfatimezzahra@gmail.com</td>\n",
       "      <td>Sep 23, 2019</td>\n",
       "      <td>Sep 27, 2019</td>\n",
       "      <td>Everyone</td>\n",
       "      <td>https://sites.google.com/view/unlimited4gdatap...</td>\n",
       "      <td>True</td>\n",
       "      <td>False</td>\n",
       "      <td>False</td>\n",
       "      <td>2021-06-15 20:19:35</td>\n",
       "    </tr>\n",
       "    <tr>\n",
       "      <th>7</th>\n",
       "      <td>The Everyday Calendar</td>\n",
       "      <td>com.mozaix.simoneboard</td>\n",
       "      <td>Lifestyle</td>\n",
       "      <td>2.0</td>\n",
       "      <td>39.0</td>\n",
       "      <td>500+</td>\n",
       "      <td>500.0</td>\n",
       "      <td>702</td>\n",
       "      <td>True</td>\n",
       "      <td>0.0</td>\n",
       "      <td>...</td>\n",
       "      <td>NaN</td>\n",
       "      <td>elementuser03@gmail.com</td>\n",
       "      <td>Jun 21, 2019</td>\n",
       "      <td>Jun 21, 2019</td>\n",
       "      <td>Everyone</td>\n",
       "      <td>https://www.freeprivacypolicy.com/privacy/view...</td>\n",
       "      <td>False</td>\n",
       "      <td>False</td>\n",
       "      <td>False</td>\n",
       "      <td>2021-06-15 20:19:35</td>\n",
       "    </tr>\n",
       "    <tr>\n",
       "      <th>8</th>\n",
       "      <td>WhatsOpen</td>\n",
       "      <td>com.whatsopen.app</td>\n",
       "      <td>Communication</td>\n",
       "      <td>0.0</td>\n",
       "      <td>0.0</td>\n",
       "      <td>10+</td>\n",
       "      <td>10.0</td>\n",
       "      <td>18</td>\n",
       "      <td>True</td>\n",
       "      <td>0.0</td>\n",
       "      <td>...</td>\n",
       "      <td>http://yilvermolinah.com</td>\n",
       "      <td>yilver.mh1996@gmail.com</td>\n",
       "      <td>NaN</td>\n",
       "      <td>Dec 07, 2018</td>\n",
       "      <td>Teen</td>\n",
       "      <td>http://elcafedelamanana.yilvermolinah.com/poli...</td>\n",
       "      <td>False</td>\n",
       "      <td>False</td>\n",
       "      <td>False</td>\n",
       "      <td>2021-06-15 20:19:35</td>\n",
       "    </tr>\n",
       "    <tr>\n",
       "      <th>9</th>\n",
       "      <td>Neon 3d Iron Tech Keyboard Theme</td>\n",
       "      <td>com.ikeyboard.theme.neon_3d.iron.tech</td>\n",
       "      <td>Personalization</td>\n",
       "      <td>4.7</td>\n",
       "      <td>820.0</td>\n",
       "      <td>50,000+</td>\n",
       "      <td>50000.0</td>\n",
       "      <td>62433</td>\n",
       "      <td>True</td>\n",
       "      <td>0.0</td>\n",
       "      <td>...</td>\n",
       "      <td>https://trendyteme888-31139.web.app</td>\n",
       "      <td>trendyteme.888@gmail.com</td>\n",
       "      <td>Sep 22, 2019</td>\n",
       "      <td>Oct 07, 2020</td>\n",
       "      <td>Everyone</td>\n",
       "      <td>http://bit.ly/EmojiThemePro</td>\n",
       "      <td>True</td>\n",
       "      <td>False</td>\n",
       "      <td>False</td>\n",
       "      <td>2021-06-15 20:19:35</td>\n",
       "    </tr>\n",
       "  </tbody>\n",
       "</table>\n",
       "<p>10 rows × 24 columns</p>\n",
       "</div>"
      ],
      "text/plain": [
       "                                            App Name  \\\n",
       "0                                            Gakondo   \n",
       "1                                Ampere Battery Info   \n",
       "2                                             Vibook   \n",
       "3  Smart City Trichy Public Service Vehicles 17UC...   \n",
       "4                                            GROW.me   \n",
       "5                                             IMOCCI   \n",
       "6                   unlimited 4G data prank free app   \n",
       "7                              The Everyday Calendar   \n",
       "8                                          WhatsOpen   \n",
       "9                   Neon 3d Iron Tech Keyboard Theme   \n",
       "\n",
       "                                          App Id          Category  Rating  \\\n",
       "0                            com.ishakwe.gakondo         Adventure     0.0   \n",
       "1                     com.webserveis.batteryinfo             Tools     4.4   \n",
       "2                           com.doantiepvien.crm      Productivity     0.0   \n",
       "3                        cst.stJoseph.ug17ucs548     Communication     5.0   \n",
       "4                           com.horodyski.grower             Tools     0.0   \n",
       "5                                     com.imocci            Social     0.0   \n",
       "6  getfreedata.superfatiza.unlimitedjiodataprank  Libraries & Demo     4.5   \n",
       "7                         com.mozaix.simoneboard         Lifestyle     2.0   \n",
       "8                              com.whatsopen.app     Communication     0.0   \n",
       "9          com.ikeyboard.theme.neon_3d.iron.tech   Personalization     4.7   \n",
       "\n",
       "   Rating Count Installs  Minimum Installs  Maximum Installs  Free  Price  \\\n",
       "0           0.0      10+              10.0                15  True    0.0   \n",
       "1          64.0   5,000+            5000.0              7662  True    0.0   \n",
       "2           0.0      50+              50.0                58  True    0.0   \n",
       "3           5.0      10+              10.0                19  True    0.0   \n",
       "4           0.0     100+             100.0               478  True    0.0   \n",
       "5           0.0      50+              50.0                89  True    0.0   \n",
       "6          12.0   1,000+            1000.0              2567  True    0.0   \n",
       "7          39.0     500+             500.0               702  True    0.0   \n",
       "8           0.0      10+              10.0                18  True    0.0   \n",
       "9         820.0  50,000+           50000.0             62433  True    0.0   \n",
       "\n",
       "   ...                    Developer Website                  Developer Email  \\\n",
       "0  ...          https://beniyizibyose.tk/#/           jean21101999@gmail.com   \n",
       "1  ...      https://webserveis.netlify.app/             webserveis@gmail.com   \n",
       "2  ...                                  NaN              vnacrewit@gmail.com   \n",
       "3  ...     http://www.climatesmarttech.com/      climatesmarttech2@gmail.com   \n",
       "4  ...          http://www.horodyski.com.pl        rmilekhorodyski@gmail.com   \n",
       "5  ...                http://www.imocci.com                  info@imocci.com   \n",
       "6  ...                                  NaN  aitomgharfatimezzahra@gmail.com   \n",
       "7  ...                                  NaN          elementuser03@gmail.com   \n",
       "8  ...             http://yilvermolinah.com          yilver.mh1996@gmail.com   \n",
       "9  ...  https://trendyteme888-31139.web.app         trendyteme.888@gmail.com   \n",
       "\n",
       "       Released  Last Updated Content Rating  \\\n",
       "0  Feb 26, 2020  Feb 26, 2020       Everyone   \n",
       "1  May 21, 2020  May 06, 2021       Everyone   \n",
       "2   Aug 9, 2019  Aug 19, 2019       Everyone   \n",
       "3  Sep 10, 2018  Oct 13, 2018       Everyone   \n",
       "4  Feb 21, 2020  Nov 12, 2018       Everyone   \n",
       "5  Dec 24, 2018  Dec 20, 2019           Teen   \n",
       "6  Sep 23, 2019  Sep 27, 2019       Everyone   \n",
       "7  Jun 21, 2019  Jun 21, 2019       Everyone   \n",
       "8           NaN  Dec 07, 2018           Teen   \n",
       "9  Sep 22, 2019  Oct 07, 2020       Everyone   \n",
       "\n",
       "                                      Privacy Policy Ad Supported  \\\n",
       "0                 https://beniyizibyose.tk/projects/        False   \n",
       "1  https://dev4phones.wordpress.com/licencia-de-uso/         True   \n",
       "2  https://www.vietnamairlines.com/vn/en/terms-an...        False   \n",
       "3                                                NaN         True   \n",
       "4                        http://www.horodyski.com.pl        False   \n",
       "5  https://www.imocci.com/wp-content/uploads/2018...        False   \n",
       "6  https://sites.google.com/view/unlimited4gdatap...         True   \n",
       "7  https://www.freeprivacypolicy.com/privacy/view...        False   \n",
       "8  http://elcafedelamanana.yilvermolinah.com/poli...        False   \n",
       "9                        http://bit.ly/EmojiThemePro         True   \n",
       "\n",
       "  In App Purchases Editors Choice         Scraped Time  \n",
       "0            False          False  2021-06-15 20:19:35  \n",
       "1            False          False  2021-06-15 20:19:35  \n",
       "2            False          False  2021-06-15 20:19:35  \n",
       "3            False          False  2021-06-15 20:19:35  \n",
       "4            False          False  2021-06-15 20:19:35  \n",
       "5             True          False  2021-06-15 20:19:35  \n",
       "6            False          False  2021-06-15 20:19:35  \n",
       "7            False          False  2021-06-15 20:19:35  \n",
       "8            False          False  2021-06-15 20:19:35  \n",
       "9            False          False  2021-06-15 20:19:35  \n",
       "\n",
       "[10 rows x 24 columns]"
      ]
     },
     "execution_count": 2,
     "metadata": {},
     "output_type": "execute_result"
    }
   ],
   "source": [
    "#Print first 10 records\n",
    "df.head(10)"
   ]
  },
  {
   "cell_type": "code",
   "execution_count": 3,
   "id": "bc21922a",
   "metadata": {},
   "outputs": [
    {
     "name": "stdout",
     "output_type": "stream",
     "text": [
      "<class 'pandas.core.frame.DataFrame'>\n",
      "RangeIndex: 2312944 entries, 0 to 2312943\n",
      "Data columns (total 24 columns):\n",
      " #   Column             Dtype  \n",
      "---  ------             -----  \n",
      " 0   App Name           object \n",
      " 1   App Id             object \n",
      " 2   Category           object \n",
      " 3   Rating             float64\n",
      " 4   Rating Count       float64\n",
      " 5   Installs           object \n",
      " 6   Minimum Installs   float64\n",
      " 7   Maximum Installs   int64  \n",
      " 8   Free               bool   \n",
      " 9   Price              float64\n",
      " 10  Currency           object \n",
      " 11  Size               object \n",
      " 12  Minimum Android    object \n",
      " 13  Developer Id       object \n",
      " 14  Developer Website  object \n",
      " 15  Developer Email    object \n",
      " 16  Released           object \n",
      " 17  Last Updated       object \n",
      " 18  Content Rating     object \n",
      " 19  Privacy Policy     object \n",
      " 20  Ad Supported       bool   \n",
      " 21  In App Purchases   bool   \n",
      " 22  Editors Choice     bool   \n",
      " 23  Scraped Time       object \n",
      "dtypes: bool(4), float64(4), int64(1), object(15)\n",
      "memory usage: 361.8+ MB\n"
     ]
    }
   ],
   "source": [
    "df.info()"
   ]
  },
  {
   "cell_type": "code",
   "execution_count": 4,
   "id": "f5534a73",
   "metadata": {},
   "outputs": [
    {
     "data": {
      "text/plain": [
       "Index(['App Name', 'App Id', 'Category', 'Rating', 'Rating Count', 'Installs',\n",
       "       'Minimum Installs', 'Maximum Installs', 'Free', 'Price', 'Currency',\n",
       "       'Size', 'Minimum Android', 'Developer Id', 'Developer Website',\n",
       "       'Developer Email', 'Released', 'Last Updated', 'Content Rating',\n",
       "       'Privacy Policy', 'Ad Supported', 'In App Purchases', 'Editors Choice',\n",
       "       'Scraped Time'],\n",
       "      dtype='object')"
      ]
     },
     "execution_count": 4,
     "metadata": {},
     "output_type": "execute_result"
    }
   ],
   "source": [
    "df.columns"
   ]
  },
  {
   "cell_type": "raw",
   "id": "4fd4535f",
   "metadata": {},
   "source": [
    "## Issues List For the Dataset\n",
    "# - Missing values in several cols: Rating, rating count, Installs, minimum and maximum installs, currency and more\n",
    "# - Convert all columns to snake_case\n",
    "# - Drop these columns: App ID, minimum and maximum installs, minimum android version, developer ID, website and email, privacy policy link.\n",
    "# - Incorrect data types for release data and size\n",
    "# - Music and education is represented by different labels\n",
    "# - Drop unnecessary categories"
   ]
  },
  {
   "cell_type": "code",
   "execution_count": 5,
   "id": "8ec1724b",
   "metadata": {},
   "outputs": [
    {
     "data": {
      "text/plain": [
       "App Name              object\n",
       "App Id                object\n",
       "Category              object\n",
       "Rating               float64\n",
       "Rating Count         float64\n",
       "Installs              object\n",
       "Minimum Installs     float64\n",
       "Maximum Installs       int64\n",
       "Free                    bool\n",
       "Price                float64\n",
       "Currency              object\n",
       "Size                  object\n",
       "Minimum Android       object\n",
       "Developer Id          object\n",
       "Developer Website     object\n",
       "Developer Email       object\n",
       "Released              object\n",
       "Last Updated          object\n",
       "Content Rating        object\n",
       "Privacy Policy        object\n",
       "Ad Supported            bool\n",
       "In App Purchases        bool\n",
       "Editors Choice          bool\n",
       "Scraped Time          object\n",
       "dtype: object"
      ]
     },
     "execution_count": 5,
     "metadata": {},
     "output_type": "execute_result"
    }
   ],
   "source": [
    "#Display the data types of each column in the dataframe\n",
    "df.dtypes"
   ]
  },
  {
   "cell_type": "code",
   "execution_count": 6,
   "id": "9bca1857",
   "metadata": {},
   "outputs": [
    {
     "data": {
      "text/plain": [
       "App Name                                        Gakondo\n",
       "App Id                              com.ishakwe.gakondo\n",
       "Category                                      Adventure\n",
       "Rating                                              0.0\n",
       "Rating Count                                        0.0\n",
       "Installs                                            10+\n",
       "Minimum Installs                                   10.0\n",
       "Maximum Installs                                     15\n",
       "Free                                               True\n",
       "Price                                               0.0\n",
       "Currency                                            USD\n",
       "Size                                                10M\n",
       "Minimum Android                              7.1 and up\n",
       "Developer Id          Jean Confident Irénée NIYIZIBYOSE\n",
       "Developer Website           https://beniyizibyose.tk/#/\n",
       "Developer Email                  jean21101999@gmail.com\n",
       "Released                                   Feb 26, 2020\n",
       "Last Updated                               Feb 26, 2020\n",
       "Content Rating                                 Everyone\n",
       "Privacy Policy       https://beniyizibyose.tk/projects/\n",
       "Ad Supported                                      False\n",
       "In App Purchases                                  False\n",
       "Editors Choice                                    False\n",
       "Scraped Time                        2021-06-15 20:19:35\n",
       "Name: 0, dtype: object"
      ]
     },
     "execution_count": 6,
     "metadata": {},
     "output_type": "execute_result"
    }
   ],
   "source": [
    "#Let's print first row and compare it against the header or another row that is correct.\n",
    "\n",
    "df.iloc[0]"
   ]
  },
  {
   "cell_type": "code",
   "execution_count": 7,
   "id": "02831990",
   "metadata": {},
   "outputs": [
    {
     "data": {
      "text/plain": [
       "App Name             2177944\n",
       "App Id               2312944\n",
       "Category                  48\n",
       "Rating                    42\n",
       "Rating Count           38482\n",
       "Installs                  22\n",
       "Minimum Installs          22\n",
       "Maximum Installs      251563\n",
       "Free                       2\n",
       "Price                   1063\n",
       "Currency                  15\n",
       "Size                    1657\n",
       "Minimum Android          154\n",
       "Developer Id          758371\n",
       "Developer Website     810440\n",
       "Developer Email       950456\n",
       "Released                4158\n",
       "Last Updated            3918\n",
       "Content Rating             6\n",
       "Privacy Policy        977743\n",
       "Ad Supported               2\n",
       "In App Purchases           2\n",
       "Editors Choice             2\n",
       "Scraped Time           67374\n",
       "dtype: int64"
      ]
     },
     "execution_count": 7,
     "metadata": {},
     "output_type": "execute_result"
    }
   ],
   "source": [
    "#Return the count of distincted values\n",
    "\n",
    "df.nunique()"
   ]
  },
  {
   "cell_type": "code",
   "execution_count": 8,
   "id": "2c708f52",
   "metadata": {},
   "outputs": [
    {
     "data": {
      "text/html": [
       "<div>\n",
       "<style scoped>\n",
       "    .dataframe tbody tr th:only-of-type {\n",
       "        vertical-align: middle;\n",
       "    }\n",
       "\n",
       "    .dataframe tbody tr th {\n",
       "        vertical-align: top;\n",
       "    }\n",
       "\n",
       "    .dataframe thead th {\n",
       "        text-align: right;\n",
       "    }\n",
       "</style>\n",
       "<table border=\"1\" class=\"dataframe\">\n",
       "  <thead>\n",
       "    <tr style=\"text-align: right;\">\n",
       "      <th></th>\n",
       "      <th>Rating</th>\n",
       "      <th>Rating Count</th>\n",
       "      <th>Minimum Installs</th>\n",
       "      <th>Maximum Installs</th>\n",
       "      <th>Price</th>\n",
       "    </tr>\n",
       "  </thead>\n",
       "  <tbody>\n",
       "    <tr>\n",
       "      <th>count</th>\n",
       "      <td>2.290061e+06</td>\n",
       "      <td>2.290061e+06</td>\n",
       "      <td>2.312837e+06</td>\n",
       "      <td>2.312944e+06</td>\n",
       "      <td>2.312944e+06</td>\n",
       "    </tr>\n",
       "    <tr>\n",
       "      <th>mean</th>\n",
       "      <td>2.203152e+00</td>\n",
       "      <td>2.864839e+03</td>\n",
       "      <td>1.834452e+05</td>\n",
       "      <td>3.202017e+05</td>\n",
       "      <td>1.034992e-01</td>\n",
       "    </tr>\n",
       "    <tr>\n",
       "      <th>std</th>\n",
       "      <td>2.106223e+00</td>\n",
       "      <td>2.121626e+05</td>\n",
       "      <td>1.513144e+07</td>\n",
       "      <td>2.355495e+07</td>\n",
       "      <td>2.633127e+00</td>\n",
       "    </tr>\n",
       "    <tr>\n",
       "      <th>min</th>\n",
       "      <td>0.000000e+00</td>\n",
       "      <td>0.000000e+00</td>\n",
       "      <td>0.000000e+00</td>\n",
       "      <td>0.000000e+00</td>\n",
       "      <td>0.000000e+00</td>\n",
       "    </tr>\n",
       "    <tr>\n",
       "      <th>25%</th>\n",
       "      <td>0.000000e+00</td>\n",
       "      <td>0.000000e+00</td>\n",
       "      <td>5.000000e+01</td>\n",
       "      <td>8.400000e+01</td>\n",
       "      <td>0.000000e+00</td>\n",
       "    </tr>\n",
       "    <tr>\n",
       "      <th>50%</th>\n",
       "      <td>2.900000e+00</td>\n",
       "      <td>6.000000e+00</td>\n",
       "      <td>5.000000e+02</td>\n",
       "      <td>6.950000e+02</td>\n",
       "      <td>0.000000e+00</td>\n",
       "    </tr>\n",
       "    <tr>\n",
       "      <th>75%</th>\n",
       "      <td>4.300000e+00</td>\n",
       "      <td>4.200000e+01</td>\n",
       "      <td>5.000000e+03</td>\n",
       "      <td>7.354000e+03</td>\n",
       "      <td>0.000000e+00</td>\n",
       "    </tr>\n",
       "    <tr>\n",
       "      <th>max</th>\n",
       "      <td>5.000000e+00</td>\n",
       "      <td>1.385576e+08</td>\n",
       "      <td>1.000000e+10</td>\n",
       "      <td>1.205763e+10</td>\n",
       "      <td>4.000000e+02</td>\n",
       "    </tr>\n",
       "  </tbody>\n",
       "</table>\n",
       "</div>"
      ],
      "text/plain": [
       "             Rating  Rating Count  Minimum Installs  Maximum Installs  \\\n",
       "count  2.290061e+06  2.290061e+06      2.312837e+06      2.312944e+06   \n",
       "mean   2.203152e+00  2.864839e+03      1.834452e+05      3.202017e+05   \n",
       "std    2.106223e+00  2.121626e+05      1.513144e+07      2.355495e+07   \n",
       "min    0.000000e+00  0.000000e+00      0.000000e+00      0.000000e+00   \n",
       "25%    0.000000e+00  0.000000e+00      5.000000e+01      8.400000e+01   \n",
       "50%    2.900000e+00  6.000000e+00      5.000000e+02      6.950000e+02   \n",
       "75%    4.300000e+00  4.200000e+01      5.000000e+03      7.354000e+03   \n",
       "max    5.000000e+00  1.385576e+08      1.000000e+10      1.205763e+10   \n",
       "\n",
       "              Price  \n",
       "count  2.312944e+06  \n",
       "mean   1.034992e-01  \n",
       "std    2.633127e+00  \n",
       "min    0.000000e+00  \n",
       "25%    0.000000e+00  \n",
       "50%    0.000000e+00  \n",
       "75%    0.000000e+00  \n",
       "max    4.000000e+02  "
      ]
     },
     "execution_count": 8,
     "metadata": {},
     "output_type": "execute_result"
    }
   ],
   "source": [
    "df.describe()"
   ]
  },
  {
   "cell_type": "code",
   "execution_count": 9,
   "id": "cf4e1de9",
   "metadata": {},
   "outputs": [
    {
     "name": "stdout",
     "output_type": "stream",
     "text": [
      "               Rating      Rating Count    Minimum Installs    Maximum Installs           Price\n",
      "count  2290061.000000    2290061.000000      2312837.000000      2312944.000000  2312944.000000\n",
      "mean         2.203152       2864.838877       183445.213958       320201.713137        0.103499\n",
      "std          2.106223     212162.571036     15131439.059725     23554954.886545        2.633127\n",
      "min          0.000000          0.000000            0.000000            0.000000        0.000000\n",
      "25%          0.000000          0.000000           50.000000           84.000000        0.000000\n",
      "50%          2.900000          6.000000          500.000000          695.000000        0.000000\n",
      "75%          4.300000         42.000000         5000.000000         7354.000000        0.000000\n",
      "max          5.000000  138557570.000000  10000000000.000000  12057627016.000000      400.000000\n"
     ]
    }
   ],
   "source": [
    "#Descriptive analysis(summary statistics)\n",
    "\n",
    "df_description = df.describe().applymap(lambda x: format(x, '.6f'))\n",
    "df_description_str = df_description.to_string()\n",
    "print(df_description_str)"
   ]
  },
  {
   "cell_type": "code",
   "execution_count": 10,
   "id": "340ecc4e",
   "metadata": {},
   "outputs": [
    {
     "data": {
      "text/plain": [
       "(2312944, 24)"
      ]
     },
     "execution_count": 10,
     "metadata": {},
     "output_type": "execute_result"
    }
   ],
   "source": [
    "df.shape"
   ]
  },
  {
   "cell_type": "markdown",
   "id": "72859f96",
   "metadata": {},
   "source": [
    "# Observations\n",
    "\n",
    "1. There are '2312944' rows and '24' columns in the dataset\n",
    "2. The columns are of different data types\n",
    "3. The columns in the datasets are:\n",
    "    - 'App Name', 'App Id', 'Category', 'Rating', 'Rating Count', 'Installs',\n",
    "       'Minimum Installs', 'Maximum Installs', 'Free', 'Price', 'Currency',\n",
    "       'Size, 'Minimum Android', `Developer Id`, `Developer Website`,\n",
    "       `Developer Email`, `Released`, `Last Updated`, `Content Rating`,\n",
    "       `Privacy Policy`, `Ad Supported`, `In App Purchases`, `Editors Choice`,\n",
    "       `Scraped Time`\n",
    "4. dtypes: bool = 4, float64 = 4, int64 = 1, object = 15\n",
    "5. There are some missing values in the dataset which we will read in details and deal later on in the notebook.  \n",
    "    - `Developer Website` have almost 33% and `Privacy Policy` have almost 18% of missing values \n",
    "6. Few columns need remove as they do not contribute to the overall results of the dataset\n",
    "    - like: `App Id`, `Developer Id`, `Developer Website`, `Developer Email`, `Privacy Policy`, `Editors Choice`, `Minimum Android` & `Scraped Time`\n",
    "7. There are some columns which are of object data type but they should be of numeric data type, we will convert them later on in the notebook.\n",
    "    - `Installs` & `Size`"
   ]
  },
  {
   "cell_type": "markdown",
   "id": "af45a031",
   "metadata": {},
   "source": [
    "# 2.1 Drop the columns that are not important"
   ]
  },
  {
   "cell_type": "code",
   "execution_count": 32,
   "id": "bbb154a5",
   "metadata": {},
   "outputs": [],
   "source": [
    "# Drop unnecessary columns from the DataFrame\n",
    "df = df.drop(['App Id', 'Developer Id', 'Developer Website', 'Developer Email', 'Privacy Policy', 'Editors Choice', 'Minimum Android', 'Scraped Time'], axis='columns')"
   ]
  },
  {
   "cell_type": "code",
   "execution_count": 33,
   "id": "b3c4347c",
   "metadata": {},
   "outputs": [],
   "source": [
    "# Rename columns by converting them to lowercase, removing leading/trailing whitespaces, and replacing spaces with underscores\n",
    "df.rename(lambda x: x.lower().strip().replace(' ', '_'), axis='columns', inplace=True)"
   ]
  },
  {
   "cell_type": "code",
   "execution_count": 34,
   "id": "68c4bd7a",
   "metadata": {
    "scrolled": true
   },
   "outputs": [
    {
     "data": {
      "text/html": [
       "<div>\n",
       "<style scoped>\n",
       "    .dataframe tbody tr th:only-of-type {\n",
       "        vertical-align: middle;\n",
       "    }\n",
       "\n",
       "    .dataframe tbody tr th {\n",
       "        vertical-align: top;\n",
       "    }\n",
       "\n",
       "    .dataframe thead th {\n",
       "        text-align: right;\n",
       "    }\n",
       "</style>\n",
       "<table border=\"1\" class=\"dataframe\">\n",
       "  <thead>\n",
       "    <tr style=\"text-align: right;\">\n",
       "      <th></th>\n",
       "      <th>app_name</th>\n",
       "      <th>category</th>\n",
       "      <th>rating</th>\n",
       "      <th>rating_count</th>\n",
       "      <th>installs</th>\n",
       "      <th>minimum_installs</th>\n",
       "      <th>maximum_installs</th>\n",
       "      <th>free</th>\n",
       "      <th>price</th>\n",
       "      <th>currency</th>\n",
       "      <th>size</th>\n",
       "      <th>released</th>\n",
       "      <th>last_updated</th>\n",
       "      <th>content_rating</th>\n",
       "      <th>ad_supported</th>\n",
       "      <th>in_app_purchases</th>\n",
       "    </tr>\n",
       "  </thead>\n",
       "  <tbody>\n",
       "    <tr>\n",
       "      <th>0</th>\n",
       "      <td>Gakondo</td>\n",
       "      <td>Adventure</td>\n",
       "      <td>0.0</td>\n",
       "      <td>0.0</td>\n",
       "      <td>10+</td>\n",
       "      <td>10.0</td>\n",
       "      <td>15</td>\n",
       "      <td>True</td>\n",
       "      <td>0.0</td>\n",
       "      <td>USD</td>\n",
       "      <td>10M</td>\n",
       "      <td>Feb 26, 2020</td>\n",
       "      <td>Feb 26, 2020</td>\n",
       "      <td>Everyone</td>\n",
       "      <td>False</td>\n",
       "      <td>False</td>\n",
       "    </tr>\n",
       "    <tr>\n",
       "      <th>1</th>\n",
       "      <td>Ampere Battery Info</td>\n",
       "      <td>Tools</td>\n",
       "      <td>4.4</td>\n",
       "      <td>64.0</td>\n",
       "      <td>5,000+</td>\n",
       "      <td>5000.0</td>\n",
       "      <td>7662</td>\n",
       "      <td>True</td>\n",
       "      <td>0.0</td>\n",
       "      <td>USD</td>\n",
       "      <td>2.9M</td>\n",
       "      <td>May 21, 2020</td>\n",
       "      <td>May 06, 2021</td>\n",
       "      <td>Everyone</td>\n",
       "      <td>True</td>\n",
       "      <td>False</td>\n",
       "    </tr>\n",
       "    <tr>\n",
       "      <th>2</th>\n",
       "      <td>Vibook</td>\n",
       "      <td>Productivity</td>\n",
       "      <td>0.0</td>\n",
       "      <td>0.0</td>\n",
       "      <td>50+</td>\n",
       "      <td>50.0</td>\n",
       "      <td>58</td>\n",
       "      <td>True</td>\n",
       "      <td>0.0</td>\n",
       "      <td>USD</td>\n",
       "      <td>3.7M</td>\n",
       "      <td>Aug 9, 2019</td>\n",
       "      <td>Aug 19, 2019</td>\n",
       "      <td>Everyone</td>\n",
       "      <td>False</td>\n",
       "      <td>False</td>\n",
       "    </tr>\n",
       "    <tr>\n",
       "      <th>3</th>\n",
       "      <td>Smart City Trichy Public Service Vehicles 17UC...</td>\n",
       "      <td>Communication</td>\n",
       "      <td>5.0</td>\n",
       "      <td>5.0</td>\n",
       "      <td>10+</td>\n",
       "      <td>10.0</td>\n",
       "      <td>19</td>\n",
       "      <td>True</td>\n",
       "      <td>0.0</td>\n",
       "      <td>USD</td>\n",
       "      <td>1.8M</td>\n",
       "      <td>Sep 10, 2018</td>\n",
       "      <td>Oct 13, 2018</td>\n",
       "      <td>Everyone</td>\n",
       "      <td>True</td>\n",
       "      <td>False</td>\n",
       "    </tr>\n",
       "    <tr>\n",
       "      <th>4</th>\n",
       "      <td>GROW.me</td>\n",
       "      <td>Tools</td>\n",
       "      <td>0.0</td>\n",
       "      <td>0.0</td>\n",
       "      <td>100+</td>\n",
       "      <td>100.0</td>\n",
       "      <td>478</td>\n",
       "      <td>True</td>\n",
       "      <td>0.0</td>\n",
       "      <td>USD</td>\n",
       "      <td>6.2M</td>\n",
       "      <td>Feb 21, 2020</td>\n",
       "      <td>Nov 12, 2018</td>\n",
       "      <td>Everyone</td>\n",
       "      <td>False</td>\n",
       "      <td>False</td>\n",
       "    </tr>\n",
       "  </tbody>\n",
       "</table>\n",
       "</div>"
      ],
      "text/plain": [
       "                                            app_name       category  rating  \\\n",
       "0                                            Gakondo      Adventure     0.0   \n",
       "1                                Ampere Battery Info          Tools     4.4   \n",
       "2                                             Vibook   Productivity     0.0   \n",
       "3  Smart City Trichy Public Service Vehicles 17UC...  Communication     5.0   \n",
       "4                                            GROW.me          Tools     0.0   \n",
       "\n",
       "   rating_count installs  minimum_installs  maximum_installs  free  price  \\\n",
       "0           0.0      10+              10.0                15  True    0.0   \n",
       "1          64.0   5,000+            5000.0              7662  True    0.0   \n",
       "2           0.0      50+              50.0                58  True    0.0   \n",
       "3           5.0      10+              10.0                19  True    0.0   \n",
       "4           0.0     100+             100.0               478  True    0.0   \n",
       "\n",
       "  currency  size      released  last_updated content_rating  ad_supported  \\\n",
       "0      USD   10M  Feb 26, 2020  Feb 26, 2020       Everyone         False   \n",
       "1      USD  2.9M  May 21, 2020  May 06, 2021       Everyone          True   \n",
       "2      USD  3.7M   Aug 9, 2019  Aug 19, 2019       Everyone         False   \n",
       "3      USD  1.8M  Sep 10, 2018  Oct 13, 2018       Everyone          True   \n",
       "4      USD  6.2M  Feb 21, 2020  Nov 12, 2018       Everyone         False   \n",
       "\n",
       "   in_app_purchases  \n",
       "0             False  \n",
       "1             False  \n",
       "2             False  \n",
       "3             False  \n",
       "4             False  "
      ]
     },
     "execution_count": 34,
     "metadata": {},
     "output_type": "execute_result"
    }
   ],
   "source": [
    "# Display the first five rows of the DataFrame\n",
    "df.head()"
   ]
  },
  {
   "cell_type": "markdown",
   "id": "766a858f",
   "metadata": {},
   "source": [
    "# 2.2 Tackle Null/Missing values"
   ]
  },
  {
   "cell_type": "code",
   "execution_count": 35,
   "id": "d1a84b49",
   "metadata": {},
   "outputs": [
    {
     "data": {
      "text/plain": [
       "app_name                2\n",
       "category                0\n",
       "rating              22883\n",
       "rating_count        22883\n",
       "installs              107\n",
       "minimum_installs      107\n",
       "maximum_installs        0\n",
       "free                    0\n",
       "price                   0\n",
       "currency              135\n",
       "size                  196\n",
       "released            71053\n",
       "last_updated            0\n",
       "content_rating          0\n",
       "ad_supported            0\n",
       "in_app_purchases        0\n",
       "dtype: int64"
      ]
     },
     "execution_count": 35,
     "metadata": {},
     "output_type": "execute_result"
    }
   ],
   "source": [
    "df.isnull().sum()"
   ]
  },
  {
   "cell_type": "code",
   "execution_count": 36,
   "id": "4308a48c",
   "metadata": {},
   "outputs": [
    {
     "data": {
      "text/plain": [
       "app_name                2\n",
       "rating              22883\n",
       "rating_count        22883\n",
       "installs              107\n",
       "minimum_installs      107\n",
       "currency              135\n",
       "size                  196\n",
       "released            71053\n",
       "dtype: int64"
      ]
     },
     "execution_count": 36,
     "metadata": {},
     "output_type": "execute_result"
    }
   ],
   "source": [
    "# Select and display only the columns where the count of missing values is greater than 0\n",
    "df.isnull().sum()[df.isnull().sum()>0]"
   ]
  },
  {
   "cell_type": "raw",
   "id": "638024e0",
   "metadata": {},
   "source": [
    "- Before going ahead, let's remove the rows with missing values in the `app_name`, `installs`, `minimum_installs`, and `currency` columns, as they are very less in number and will not affect our analysis."
   ]
  },
  {
   "cell_type": "code",
   "execution_count": 42,
   "id": "83c8f7d9",
   "metadata": {},
   "outputs": [],
   "source": [
    "# Drop rows with missing values in specified columns ('app_name', 'installs', 'minimum_installs', 'currency')\n",
    "# The inplace=True parameter modifies the DataFrame in place\n",
    "df.dropna(subset=['app_name', 'installs', 'minimum_installs','size' ,'currency'], inplace=True)"
   ]
  },
  {
   "cell_type": "code",
   "execution_count": 43,
   "id": "48664fe9",
   "metadata": {},
   "outputs": [
    {
     "data": {
      "text/plain": [
       "rating          22573\n",
       "rating_count    22573\n",
       "released        70756\n",
       "dtype: int64"
      ]
     },
     "execution_count": 43,
     "metadata": {},
     "output_type": "execute_result"
    }
   ],
   "source": [
    "# Select and display only the columns where the count of missing values is greater than 0\n",
    "df.isnull().sum()[df.isnull().sum()>0]"
   ]
  },
  {
   "cell_type": "code",
   "execution_count": 45,
   "id": "10897ee1",
   "metadata": {},
   "outputs": [
    {
     "data": {
      "text/plain": [
       "6"
      ]
     },
     "execution_count": 45,
     "metadata": {},
     "output_type": "execute_result"
    }
   ],
   "source": [
    "df.duplicated().sum()"
   ]
  },
  {
   "cell_type": "code",
   "execution_count": 46,
   "id": "1006e343",
   "metadata": {},
   "outputs": [],
   "source": [
    "# Drop duplicate rows in the DataFrame, keeping only the first occurrence of each set of duplicated rows\n",
    "df.drop_duplicates(inplace=True)"
   ]
  },
  {
   "cell_type": "code",
   "execution_count": 47,
   "id": "b0e40375",
   "metadata": {},
   "outputs": [
    {
     "data": {
      "text/plain": [
       "0"
      ]
     },
     "execution_count": 47,
     "metadata": {},
     "output_type": "execute_result"
    }
   ],
   "source": [
    "df.duplicated().sum()"
   ]
  },
  {
   "cell_type": "code",
   "execution_count": 50,
   "id": "0dbb7907",
   "metadata": {},
   "outputs": [
    {
     "data": {
      "text/plain": [
       "count    2.290033e+06\n",
       "mean     2.203152e+00\n",
       "std      2.106223e+00\n",
       "min      0.000000e+00\n",
       "25%      0.000000e+00\n",
       "50%      2.900000e+00\n",
       "75%      4.300000e+00\n",
       "max      5.000000e+00\n",
       "Name: rating, dtype: float64"
      ]
     },
     "execution_count": 50,
     "metadata": {},
     "output_type": "execute_result"
    }
   ],
   "source": [
    "df['rating'].describe()"
   ]
  },
  {
   "cell_type": "code",
   "execution_count": 51,
   "id": "7077b40e",
   "metadata": {},
   "outputs": [
    {
     "data": {
      "text/plain": [
       "category\n",
       "Action                     2.706039\n",
       "Adventure                  2.814991\n",
       "Arcade                     2.450446\n",
       "Art & Design               1.952354\n",
       "Auto & Vehicles            2.049613\n",
       "Beauty                     1.434105\n",
       "Board                      2.782275\n",
       "Books & Reference          2.467159\n",
       "Business                   1.439067\n",
       "Card                       3.085160\n",
       "Casino                     3.279682\n",
       "Casual                     2.425209\n",
       "Comics                     2.864906\n",
       "Communication              2.122550\n",
       "Dating                     2.451605\n",
       "Education                  2.246859\n",
       "Educational                2.437742\n",
       "Entertainment              2.435374\n",
       "Events                     1.270809\n",
       "Finance                    2.403102\n",
       "Food & Drink               1.294581\n",
       "Health & Fitness           1.623796\n",
       "House & Home               1.485381\n",
       "Libraries & Demo           2.087115\n",
       "Lifestyle                  1.930373\n",
       "Maps & Navigation          2.224889\n",
       "Medical                    1.848003\n",
       "Music                      2.662008\n",
       "Music & Audio              2.226825\n",
       "News & Magazines           2.483735\n",
       "Parenting                  2.423273\n",
       "Personalization            2.758754\n",
       "Photography                2.519765\n",
       "Productivity               1.937952\n",
       "Puzzle                     2.688333\n",
       "Racing                     2.960385\n",
       "Role Playing               3.384498\n",
       "Shopping                   1.836999\n",
       "Simulation                 3.210887\n",
       "Social                     2.398867\n",
       "Sports                     2.315538\n",
       "Strategy                   2.878900\n",
       "Tools                      2.346076\n",
       "Travel & Local             1.921152\n",
       "Trivia                     2.526178\n",
       "Video Players & Editors    2.903842\n",
       "Weather                    3.120171\n",
       "Word                       2.902076\n",
       "Name: rating, dtype: float64"
      ]
     },
     "execution_count": 51,
     "metadata": {},
     "output_type": "execute_result"
    }
   ],
   "source": [
    "# Calculate the average rating in each 'Category'\n",
    "df.groupby('category')['rating'].mean()"
   ]
  },
  {
   "cell_type": "code",
   "execution_count": 52,
   "id": "a6615574",
   "metadata": {},
   "outputs": [],
   "source": [
    "# Calculate the average rating in each 'Category'\n",
    "average_ratings = df.groupby('category')['rating'].transform('mean')\n",
    "\n",
    "# Replace missing values in 'Rating' with the respective average ratings of their Category\n",
    "df['rating'] = df['rating'].fillna(average_ratings)"
   ]
  },
  {
   "cell_type": "raw",
   "id": "0b93039d",
   "metadata": {},
   "source": [
    "- For `rating_count` we will replace the respective missing values of rating_count, with respect of the average rating count of their 'Category'"
   ]
  },
  {
   "cell_type": "code",
   "execution_count": 53,
   "id": "61a8e468",
   "metadata": {},
   "outputs": [],
   "source": [
    "# Calculate the average rating in each 'Category'\n",
    "average_rating_count = df.groupby('category')['rating_count'].transform('mean')\n",
    "\n",
    "# Replace missing values in 'Rating' with the respective average ratings of their Category\n",
    "df['rating_count'] = df['rating_count'].fillna(average_rating_count)"
   ]
  },
  {
   "cell_type": "code",
   "execution_count": 58,
   "id": "e0b4720e",
   "metadata": {},
   "outputs": [],
   "source": [
    "df = df.dropna(subset=['released'])"
   ]
  },
  {
   "cell_type": "code",
   "execution_count": 60,
   "id": "ac186f85",
   "metadata": {},
   "outputs": [
    {
     "data": {
      "text/plain": [
       "0          Feb 26, 2020\n",
       "1          May 21, 2020\n",
       "2           Aug 9, 2019\n",
       "3          Sep 10, 2018\n",
       "4          Feb 21, 2020\n",
       "               ...     \n",
       "2312938    May 22, 2018\n",
       "2312940    Jan 17, 2018\n",
       "2312941    Aug 19, 2018\n",
       "2312942     Aug 1, 2016\n",
       "2312943     Aug 9, 2019\n",
       "Name: released, Length: 2241850, dtype: object"
      ]
     },
     "execution_count": 60,
     "metadata": {},
     "output_type": "execute_result"
    }
   ],
   "source": [
    "df['released']"
   ]
  },
  {
   "cell_type": "code",
   "execution_count": 62,
   "id": "ab43113d",
   "metadata": {},
   "outputs": [
    {
     "data": {
      "text/plain": [
       "array(['10+', '5,000+', '50+', '100+', '1,000+', '500+', '50,000+',\n",
       "       '10,000+', '1+', '500,000+', '100,000+', '5+', '10,000,000+',\n",
       "       '1,000,000+', '5,000,000+', '0+', '100,000,000+', '50,000,000+',\n",
       "       '1,000,000,000+', '500,000,000+', '5,000,000,000+',\n",
       "       '10,000,000,000+'], dtype=object)"
      ]
     },
     "execution_count": 62,
     "metadata": {},
     "output_type": "execute_result"
    }
   ],
   "source": [
    "df['installs'].unique()"
   ]
  },
  {
   "cell_type": "code",
   "execution_count": 66,
   "id": "8d89eb01",
   "metadata": {},
   "outputs": [],
   "source": [
    "df['installs'] = df['installs'].str.split('+').str[0]  # Remove the + symbol\n",
    "df['installs'].replace(',','', regex=True, inplace=True)   # Remove the + symbol"
   ]
  },
  {
   "cell_type": "code",
   "execution_count": 67,
   "id": "ee448f63",
   "metadata": {},
   "outputs": [],
   "source": [
    "df['installs'] = df['installs'].replace (to_replace=[np.nan,\"\"], value=0).astype('int64')   # Converting it to the int type"
   ]
  },
  {
   "cell_type": "code",
   "execution_count": 68,
   "id": "2db7807b",
   "metadata": {},
   "outputs": [
    {
     "data": {
      "text/plain": [
       "array([         10,        5000,          50,         100,        1000,\n",
       "               500,       50000,       10000,           1,      500000,\n",
       "            100000,           5,    10000000,     1000000,     5000000,\n",
       "                 0,   100000000,    50000000,  1000000000,   500000000,\n",
       "        5000000000, 10000000000], dtype=int64)"
      ]
     },
     "execution_count": 68,
     "metadata": {},
     "output_type": "execute_result"
    }
   ],
   "source": [
    "df['installs'].unique()"
   ]
  },
  {
   "cell_type": "code",
   "execution_count": 70,
   "id": "69b3778a",
   "metadata": {},
   "outputs": [
    {
     "data": {
      "text/plain": [
       "array(['USD', 'XXX', 'CAD', 'EUR', 'INR', 'VND', 'GBP', 'BRL', 'KRW',\n",
       "       'TRY', 'SGD', 'AUD', 'ZAR'], dtype=object)"
      ]
     },
     "execution_count": 70,
     "metadata": {},
     "output_type": "execute_result"
    }
   ],
   "source": [
    "df['currency'].unique()"
   ]
  },
  {
   "cell_type": "code",
   "execution_count": 72,
   "id": "37a2ac5b",
   "metadata": {},
   "outputs": [
    {
     "data": {
      "text/plain": [
       "array(['10M', '2.9M', '3.7M', ..., '405M', '3.2k', '512M'], dtype=object)"
      ]
     },
     "execution_count": 72,
     "metadata": {},
     "output_type": "execute_result"
    }
   ],
   "source": [
    "df['size'].unique()"
   ]
  },
  {
   "cell_type": "markdown",
   "id": "88f616ff",
   "metadata": {},
   "source": [
    "#  3. The Size of data can be in GB,MB and KB we will convert the data into the size in MB"
   ]
  },
  {
   "cell_type": "code",
   "execution_count": 73,
   "id": "72ede4f3",
   "metadata": {},
   "outputs": [],
   "source": [
    "df['size'] = df['size'].apply(lambda x: str(x).replace('M', '') if 'M' in str(x) else x)"
   ]
  },
  {
   "cell_type": "code",
   "execution_count": 102,
   "id": "aacc4d91",
   "metadata": {},
   "outputs": [],
   "source": [
    "#df['size'] = df['size'].apply(lambda x: float(str(x).replace('k', '')) / 1000 if 'k' in str(x) else x)"
   ]
  },
  {
   "cell_type": "raw",
   "id": "3d09ad52",
   "metadata": {},
   "source": [
    "- Here we get mismatched value with the data we got the value 1,018 we can drop it or we can assume as it may be a '.'(dot) that would incorrectly added to the dataset. so let assume it as dot for now and replace the ',' with dot '.'."
   ]
  },
  {
   "cell_type": "code",
   "execution_count": 76,
   "id": "ca1b2026",
   "metadata": {},
   "outputs": [],
   "source": [
    "df['size'] = df['size'].apply(lambda x: str(x).replace(',', '.') if ',' in str(x) else x)"
   ]
  },
  {
   "cell_type": "markdown",
   "id": "9dc8cf2b",
   "metadata": {},
   "source": [
    "# 3.1 Convert kbs to mb"
   ]
  },
  {
   "cell_type": "code",
   "execution_count": 77,
   "id": "c30daf18",
   "metadata": {},
   "outputs": [],
   "source": [
    "df['size'] = df['size'].apply(lambda x: float(str(x).replace('k', '')) / 1000 if 'k' in str(x) else x)"
   ]
  },
  {
   "cell_type": "markdown",
   "id": "1e09aef8",
   "metadata": {},
   "source": [
    "# 3.2 Convert GBs to MBs"
   ]
  },
  {
   "cell_type": "code",
   "execution_count": 78,
   "id": "5b60e0b5",
   "metadata": {},
   "outputs": [],
   "source": [
    "df['size'] = df['size'].apply(lambda x: float(str(x).replace('G', '')) * 1000 if 'G' in str(x) else x)"
   ]
  },
  {
   "cell_type": "code",
   "execution_count": 79,
   "id": "21e99a08",
   "metadata": {},
   "outputs": [
    {
     "data": {
      "text/plain": [
       "dtype('O')"
      ]
     },
     "execution_count": 79,
     "metadata": {},
     "output_type": "execute_result"
    }
   ],
   "source": [
    "df.dtypes['size']"
   ]
  },
  {
   "cell_type": "code",
   "execution_count": 84,
   "id": "596c593b",
   "metadata": {},
   "outputs": [
    {
     "data": {
      "text/plain": [
       "0          Feb 26, 2020\n",
       "1          May 06, 2021\n",
       "2          Aug 19, 2019\n",
       "3          Oct 13, 2018\n",
       "4          Nov 12, 2018\n",
       "               ...     \n",
       "2312938    Dec 14, 2018\n",
       "2312940    Feb 02, 2018\n",
       "2312941    Aug 19, 2018\n",
       "2312942    May 05, 2021\n",
       "2312943    Aug 19, 2019\n",
       "Name: last_updated, Length: 2241850, dtype: object"
      ]
     },
     "execution_count": 84,
     "metadata": {},
     "output_type": "execute_result"
    }
   ],
   "source": [
    "df['last_updated']"
   ]
  },
  {
   "cell_type": "code",
   "execution_count": 85,
   "id": "5d45ae47",
   "metadata": {},
   "outputs": [
    {
     "data": {
      "text/plain": [
       "0          Feb 26, 2020\n",
       "1          May 21, 2020\n",
       "2           Aug 9, 2019\n",
       "3          Sep 10, 2018\n",
       "4          Feb 21, 2020\n",
       "               ...     \n",
       "2312938    May 22, 2018\n",
       "2312940    Jan 17, 2018\n",
       "2312941    Aug 19, 2018\n",
       "2312942     Aug 1, 2016\n",
       "2312943     Aug 9, 2019\n",
       "Name: released, Length: 2241850, dtype: object"
      ]
     },
     "execution_count": 85,
     "metadata": {},
     "output_type": "execute_result"
    }
   ],
   "source": [
    "df['released']"
   ]
  },
  {
   "cell_type": "code",
   "execution_count": 87,
   "id": "bd20bae6",
   "metadata": {},
   "outputs": [
    {
     "data": {
      "text/plain": [
       "0          True\n",
       "1          True\n",
       "2          True\n",
       "3          True\n",
       "4          True\n",
       "           ... \n",
       "2312938    True\n",
       "2312940    True\n",
       "2312941    True\n",
       "2312942    True\n",
       "2312943    True\n",
       "Name: free, Length: 2241850, dtype: bool"
      ]
     },
     "execution_count": 87,
     "metadata": {},
     "output_type": "execute_result"
    }
   ],
   "source": [
    "df['free']"
   ]
  },
  {
   "cell_type": "code",
   "execution_count": 89,
   "id": "57a36118",
   "metadata": {},
   "outputs": [
    {
     "data": {
      "text/plain": [
       "array(['Everyone', 'Teen', 'Mature 17+', 'Everyone 10+',\n",
       "       'Adults only 18+', 'Unrated'], dtype=object)"
      ]
     },
     "execution_count": 89,
     "metadata": {},
     "output_type": "execute_result"
    }
   ],
   "source": [
    "# lets clean the Content rating column\n",
    "df['content_rating'].unique()"
   ]
  },
  {
   "cell_type": "code",
   "execution_count": 90,
   "id": "b6b7450a",
   "metadata": {},
   "outputs": [
    {
     "data": {
      "text/plain": [
       "Everyone           1959896\n",
       "Teen                190169\n",
       "Mature 17+           58676\n",
       "Everyone 10+         32827\n",
       "Unrated                152\n",
       "Adults only 18+        130\n",
       "Name: content_rating, dtype: int64"
      ]
     },
     "execution_count": 90,
     "metadata": {},
     "output_type": "execute_result"
    }
   ],
   "source": [
    "df['content_rating'].value_counts()"
   ]
  },
  {
   "cell_type": "markdown",
   "id": "25fbb291",
   "metadata": {},
   "source": [
    "# Observations :\n",
    "\n",
    "1. We have varies Categories in the Content Rating Columns:\n",
    "   - Everyone\n",
    "   - Teen\n",
    "   - Mature 17+\n",
    "   - Everyone\n",
    "   - Unrated\n",
    "   - Adults only 18+\n",
    "\n",
    "Now, we makes this Categories to a simple 3 Categories for better Understanding:\n",
    "Everyone, teen, Adults\n",
    "  - Mature 17+ ---> to Adults\n",
    "  - Everyone 10+ ---> to TEEN\n",
    "  - Unrated ---> to Everyone\n",
    "  - Adults only 18+ ---> to Adults\n",
    "  "
   ]
  },
  {
   "cell_type": "code",
   "execution_count": 91,
   "id": "c61cc1fd",
   "metadata": {},
   "outputs": [],
   "source": [
    "df[\"content_rating\"] = df[\"content_rating\"].replace(\"Unrated\", \"Everyone\")\n",
    "df[\"content_rating\"] = df[\"content_rating\"].replace(\"Everyone 10+\", \"Teen\")\n",
    "df[\"content_rating\"] = df[\"content_rating\"].replace(\"Mature 17+\", \"Adults\")\n",
    "df[\"content_rating\"] = df[\"content_rating\"].replace(\"Adults only 18+\", \"Adults\")"
   ]
  },
  {
   "cell_type": "code",
   "execution_count": 92,
   "id": "b80ca98a",
   "metadata": {},
   "outputs": [
    {
     "data": {
      "text/plain": [
       "array(['Everyone', 'Teen', 'Adults'], dtype=object)"
      ]
     },
     "execution_count": 92,
     "metadata": {},
     "output_type": "execute_result"
    }
   ],
   "source": [
    "df['content_rating'].unique()"
   ]
  },
  {
   "cell_type": "code",
   "execution_count": 93,
   "id": "7c5b3755",
   "metadata": {},
   "outputs": [],
   "source": [
    "# Creataing the column type for free and paid Apps by using the Free column, it's helpfull while dealing with the paid and Free Apps\n",
    "df['type'] = np.where(df['free'] == True,'Free','Paid')\n",
    "df.drop(['free'],axis=1, inplace= True )"
   ]
  },
  {
   "cell_type": "code",
   "execution_count": 94,
   "id": "51985cee",
   "metadata": {},
   "outputs": [
    {
     "name": "stdout",
     "output_type": "stream",
     "text": [
      "<class 'pandas.core.frame.DataFrame'>\n",
      "Int64Index: 2241850 entries, 0 to 2312943\n",
      "Data columns (total 16 columns):\n",
      " #   Column            Dtype  \n",
      "---  ------            -----  \n",
      " 0   app_name          object \n",
      " 1   category          object \n",
      " 2   rating            float64\n",
      " 3   rating_count      float64\n",
      " 4   installs          int64  \n",
      " 5   minimum_installs  float64\n",
      " 6   maximum_installs  int64  \n",
      " 7   price             float64\n",
      " 8   currency          object \n",
      " 9   size              object \n",
      " 10  released          object \n",
      " 11  last_updated      object \n",
      " 12  content_rating    object \n",
      " 13  ad_supported      bool   \n",
      " 14  in_app_purchases  bool   \n",
      " 15  type              object \n",
      "dtypes: bool(2), float64(4), int64(2), object(8)\n",
      "memory usage: 260.8+ MB\n"
     ]
    }
   ],
   "source": [
    "df.info()"
   ]
  },
  {
   "cell_type": "code",
   "execution_count": 95,
   "id": "732375d1",
   "metadata": {},
   "outputs": [
    {
     "data": {
      "text/plain": [
       "array([0.        , 4.4       , 5.        , 4.5       , 2.        ,\n",
       "       4.7       , 4.9       , 3.9       , 3.7       , 4.2       ,\n",
       "       3.4       , 3.8       , 4.6       , 4.1       , 2.5       ,\n",
       "       2.3       , 2.1       , 2.7       , 4.3       , 3.1       ,\n",
       "       4.8       , 3.3       , 4.        , 2.4       , 3.2       ,\n",
       "       3.6       , 2.6       , 1.5       , 3.5       , 2.9       ,\n",
       "       1.3       , 2.8       , 3.        , 2.2       , 1.8       ,\n",
       "       1.4       , 1.2       , 1.9       , 1.7       , 1.6       ,\n",
       "       1.        , 1.1       , 2.70603914, 1.43906675, 1.83699884,\n",
       "       2.34607631, 2.24685881, 2.42520911, 2.48373491, 2.12254964,\n",
       "       2.43537412, 2.4671594 , 2.04961283, 2.43774158, 2.52617846,\n",
       "       1.27080868, 2.51976488, 2.39886704, 1.93795228, 2.40310212,\n",
       "       1.48538065, 1.62379626, 2.87890008, 1.29458083, 2.96038514,\n",
       "       1.93037313, 1.84800252, 2.31553846, 2.22488899, 3.21088717,\n",
       "       2.814991  , 2.4516054 , 2.45044587, 2.68833254, 2.22682485,\n",
       "       3.12017113, 3.38449829, 1.92115171, 1.95235428, 2.42327311,\n",
       "       3.27968222, 2.66200821, 3.08516033, 2.90207625])"
      ]
     },
     "execution_count": 95,
     "metadata": {},
     "output_type": "execute_result"
    }
   ],
   "source": [
    "df['rating'].unique()"
   ]
  },
  {
   "cell_type": "code",
   "execution_count": 96,
   "id": "e5f91b25",
   "metadata": {},
   "outputs": [
    {
     "data": {
      "text/plain": [
       "138557570.0"
      ]
     },
     "execution_count": 96,
     "metadata": {},
     "output_type": "execute_result"
    }
   ],
   "source": [
    "df['rating_count'].max()"
   ]
  },
  {
   "cell_type": "code",
   "execution_count": 99,
   "id": "48a22801",
   "metadata": {},
   "outputs": [
    {
     "data": {
      "text/plain": [
       "Less than 10k           1167482\n",
       "NoRatingProvided        1038313\n",
       "Between 10k and 500k      34465\n",
       "More than 500k             1590\n",
       "Name: rating_type, dtype: int64"
      ]
     },
     "execution_count": 99,
     "metadata": {},
     "output_type": "execute_result"
    }
   ],
   "source": [
    "df['rating_type'] = 'NoRatingProvided'\n",
    "df.loc[(df['rating_count'] > 0) & (df['rating_count'] <=10000.0), 'rating_type'] = 'Less than 10k'\n",
    "df.loc[(df['rating_count'] > 10000) & (df['rating_count'] <=500000.0), 'rating_type'] = 'Between 10k and 500k'\n",
    "df.loc[(df['rating_count'] > 500000) & (df['rating_count'] <=138557570.0), 'rating_type'] = 'More than 500k'\n",
    "df['rating_type'].value_counts()"
   ]
  },
  {
   "cell_type": "code",
   "execution_count": 100,
   "id": "df29b0b5",
   "metadata": {},
   "outputs": [
    {
     "data": {
      "text/plain": [
       "0          NoRatingProvided\n",
       "1             Less than 10k\n",
       "2          NoRatingProvided\n",
       "3             Less than 10k\n",
       "4          NoRatingProvided\n",
       "                 ...       \n",
       "2312938       Less than 10k\n",
       "2312940    NoRatingProvided\n",
       "2312941    NoRatingProvided\n",
       "2312942       Less than 10k\n",
       "2312943       Less than 10k\n",
       "Name: rating_type, Length: 2241850, dtype: object"
      ]
     },
     "execution_count": 100,
     "metadata": {},
     "output_type": "execute_result"
    }
   ],
   "source": [
    "df['rating_type']"
   ]
  },
  {
   "cell_type": "code",
   "execution_count": 101,
   "id": "a419535d",
   "metadata": {},
   "outputs": [
    {
     "name": "stdout",
     "output_type": "stream",
     "text": [
      "<class 'pandas.core.frame.DataFrame'>\n",
      "Int64Index: 2241850 entries, 0 to 2312943\n",
      "Data columns (total 18 columns):\n",
      " #   Column            Dtype  \n",
      "---  ------            -----  \n",
      " 0   app_name          object \n",
      " 1   category          object \n",
      " 2   rating            float64\n",
      " 3   rating_count      float64\n",
      " 4   installs          int64  \n",
      " 5   minimum_installs  float64\n",
      " 6   maximum_installs  int64  \n",
      " 7   price             float64\n",
      " 8   currency          object \n",
      " 9   size              object \n",
      " 10  released          object \n",
      " 11  last_updated      object \n",
      " 12  content_rating    object \n",
      " 13  ad_supported      bool   \n",
      " 14  in_app_purchases  bool   \n",
      " 15  type              object \n",
      " 16  rating_type       object \n",
      " 17  Rating type       object \n",
      "dtypes: bool(2), float64(4), int64(2), object(10)\n",
      "memory usage: 295.0+ MB\n"
     ]
    }
   ],
   "source": [
    "df.info()"
   ]
  },
  {
   "cell_type": "code",
   "execution_count": 111,
   "id": "ccee63cf",
   "metadata": {},
   "outputs": [
    {
     "data": {
      "text/html": [
       "<div>\n",
       "<style scoped>\n",
       "    .dataframe tbody tr th:only-of-type {\n",
       "        vertical-align: middle;\n",
       "    }\n",
       "\n",
       "    .dataframe tbody tr th {\n",
       "        vertical-align: top;\n",
       "    }\n",
       "\n",
       "    .dataframe thead th {\n",
       "        text-align: right;\n",
       "    }\n",
       "</style>\n",
       "<table border=\"1\" class=\"dataframe\">\n",
       "  <thead>\n",
       "    <tr style=\"text-align: right;\">\n",
       "      <th></th>\n",
       "      <th>app_name</th>\n",
       "      <th>category</th>\n",
       "      <th>rating</th>\n",
       "      <th>rating_count</th>\n",
       "      <th>installs</th>\n",
       "      <th>minimum_installs</th>\n",
       "      <th>maximum_installs</th>\n",
       "      <th>price</th>\n",
       "      <th>currency</th>\n",
       "      <th>size</th>\n",
       "      <th>released</th>\n",
       "      <th>last_updated</th>\n",
       "      <th>content_rating</th>\n",
       "      <th>ad_supported</th>\n",
       "      <th>in_app_purchases</th>\n",
       "      <th>type</th>\n",
       "      <th>rating_type</th>\n",
       "    </tr>\n",
       "  </thead>\n",
       "  <tbody>\n",
       "    <tr>\n",
       "      <th>0</th>\n",
       "      <td>Gakondo</td>\n",
       "      <td>Adventure</td>\n",
       "      <td>0.0</td>\n",
       "      <td>0.0</td>\n",
       "      <td>10</td>\n",
       "      <td>10.0</td>\n",
       "      <td>15</td>\n",
       "      <td>0.0</td>\n",
       "      <td>USD</td>\n",
       "      <td>10</td>\n",
       "      <td>Feb 26, 2020</td>\n",
       "      <td>Feb 26, 2020</td>\n",
       "      <td>Everyone</td>\n",
       "      <td>False</td>\n",
       "      <td>False</td>\n",
       "      <td>Free</td>\n",
       "      <td>NoRatingProvided</td>\n",
       "    </tr>\n",
       "    <tr>\n",
       "      <th>1</th>\n",
       "      <td>Ampere Battery Info</td>\n",
       "      <td>Tools</td>\n",
       "      <td>4.4</td>\n",
       "      <td>64.0</td>\n",
       "      <td>5000</td>\n",
       "      <td>5000.0</td>\n",
       "      <td>7662</td>\n",
       "      <td>0.0</td>\n",
       "      <td>USD</td>\n",
       "      <td>2.9</td>\n",
       "      <td>May 21, 2020</td>\n",
       "      <td>May 06, 2021</td>\n",
       "      <td>Everyone</td>\n",
       "      <td>True</td>\n",
       "      <td>False</td>\n",
       "      <td>Free</td>\n",
       "      <td>Less than 10k</td>\n",
       "    </tr>\n",
       "    <tr>\n",
       "      <th>2</th>\n",
       "      <td>Vibook</td>\n",
       "      <td>Productivity</td>\n",
       "      <td>0.0</td>\n",
       "      <td>0.0</td>\n",
       "      <td>50</td>\n",
       "      <td>50.0</td>\n",
       "      <td>58</td>\n",
       "      <td>0.0</td>\n",
       "      <td>USD</td>\n",
       "      <td>3.7</td>\n",
       "      <td>Aug 9, 2019</td>\n",
       "      <td>Aug 19, 2019</td>\n",
       "      <td>Everyone</td>\n",
       "      <td>False</td>\n",
       "      <td>False</td>\n",
       "      <td>Free</td>\n",
       "      <td>NoRatingProvided</td>\n",
       "    </tr>\n",
       "    <tr>\n",
       "      <th>3</th>\n",
       "      <td>Smart City Trichy Public Service Vehicles 17UC...</td>\n",
       "      <td>Communication</td>\n",
       "      <td>5.0</td>\n",
       "      <td>5.0</td>\n",
       "      <td>10</td>\n",
       "      <td>10.0</td>\n",
       "      <td>19</td>\n",
       "      <td>0.0</td>\n",
       "      <td>USD</td>\n",
       "      <td>1.8</td>\n",
       "      <td>Sep 10, 2018</td>\n",
       "      <td>Oct 13, 2018</td>\n",
       "      <td>Everyone</td>\n",
       "      <td>True</td>\n",
       "      <td>False</td>\n",
       "      <td>Free</td>\n",
       "      <td>Less than 10k</td>\n",
       "    </tr>\n",
       "    <tr>\n",
       "      <th>4</th>\n",
       "      <td>GROW.me</td>\n",
       "      <td>Tools</td>\n",
       "      <td>0.0</td>\n",
       "      <td>0.0</td>\n",
       "      <td>100</td>\n",
       "      <td>100.0</td>\n",
       "      <td>478</td>\n",
       "      <td>0.0</td>\n",
       "      <td>USD</td>\n",
       "      <td>6.2</td>\n",
       "      <td>Feb 21, 2020</td>\n",
       "      <td>Nov 12, 2018</td>\n",
       "      <td>Everyone</td>\n",
       "      <td>False</td>\n",
       "      <td>False</td>\n",
       "      <td>Free</td>\n",
       "      <td>NoRatingProvided</td>\n",
       "    </tr>\n",
       "  </tbody>\n",
       "</table>\n",
       "</div>"
      ],
      "text/plain": [
       "                                            app_name       category  rating  \\\n",
       "0                                            Gakondo      Adventure     0.0   \n",
       "1                                Ampere Battery Info          Tools     4.4   \n",
       "2                                             Vibook   Productivity     0.0   \n",
       "3  Smart City Trichy Public Service Vehicles 17UC...  Communication     5.0   \n",
       "4                                            GROW.me          Tools     0.0   \n",
       "\n",
       "   rating_count  installs  minimum_installs  maximum_installs  price currency  \\\n",
       "0           0.0        10              10.0                15    0.0      USD   \n",
       "1          64.0      5000            5000.0              7662    0.0      USD   \n",
       "2           0.0        50              50.0                58    0.0      USD   \n",
       "3           5.0        10              10.0                19    0.0      USD   \n",
       "4           0.0       100             100.0               478    0.0      USD   \n",
       "\n",
       "  size      released  last_updated content_rating  ad_supported  \\\n",
       "0   10  Feb 26, 2020  Feb 26, 2020       Everyone         False   \n",
       "1  2.9  May 21, 2020  May 06, 2021       Everyone          True   \n",
       "2  3.7   Aug 9, 2019  Aug 19, 2019       Everyone         False   \n",
       "3  1.8  Sep 10, 2018  Oct 13, 2018       Everyone          True   \n",
       "4  6.2  Feb 21, 2020  Nov 12, 2018       Everyone         False   \n",
       "\n",
       "   in_app_purchases  type       rating_type  \n",
       "0             False  Free  NoRatingProvided  \n",
       "1             False  Free     Less than 10k  \n",
       "2             False  Free  NoRatingProvided  \n",
       "3             False  Free     Less than 10k  \n",
       "4             False  Free  NoRatingProvided  "
      ]
     },
     "execution_count": 111,
     "metadata": {},
     "output_type": "execute_result"
    }
   ],
   "source": [
    "df.head()"
   ]
  },
  {
   "cell_type": "code",
   "execution_count": 110,
   "id": "b9fb7695",
   "metadata": {},
   "outputs": [],
   "source": [
    "df.drop(columns=['Rating type'], inplace=True)"
   ]
  },
  {
   "cell_type": "code",
   "execution_count": 112,
   "id": "013c1a3e",
   "metadata": {},
   "outputs": [
    {
     "name": "stdout",
     "output_type": "stream",
     "text": [
      "<class 'pandas.core.frame.DataFrame'>\n",
      "Int64Index: 2241850 entries, 0 to 2312943\n",
      "Data columns (total 17 columns):\n",
      " #   Column            Dtype  \n",
      "---  ------            -----  \n",
      " 0   app_name          object \n",
      " 1   category          object \n",
      " 2   rating            float64\n",
      " 3   rating_count      float64\n",
      " 4   installs          int64  \n",
      " 5   minimum_installs  float64\n",
      " 6   maximum_installs  int64  \n",
      " 7   price             float64\n",
      " 8   currency          object \n",
      " 9   size              object \n",
      " 10  released          object \n",
      " 11  last_updated      object \n",
      " 12  content_rating    object \n",
      " 13  ad_supported      bool   \n",
      " 14  in_app_purchases  bool   \n",
      " 15  type              object \n",
      " 16  rating_type       object \n",
      "dtypes: bool(2), float64(4), int64(2), object(9)\n",
      "memory usage: 277.9+ MB\n"
     ]
    }
   ],
   "source": [
    "df.info()"
   ]
  },
  {
   "cell_type": "markdown",
   "id": "39a88504",
   "metadata": {},
   "source": [
    "# 4. Calculate the correlation coefficients between numerical columns"
   ]
  },
  {
   "cell_type": "code",
   "execution_count": 113,
   "id": "b20ab03a",
   "metadata": {},
   "outputs": [
    {
     "data": {
      "text/html": [
       "<div>\n",
       "<style scoped>\n",
       "    .dataframe tbody tr th:only-of-type {\n",
       "        vertical-align: middle;\n",
       "    }\n",
       "\n",
       "    .dataframe tbody tr th {\n",
       "        vertical-align: top;\n",
       "    }\n",
       "\n",
       "    .dataframe thead th {\n",
       "        text-align: right;\n",
       "    }\n",
       "</style>\n",
       "<table border=\"1\" class=\"dataframe\">\n",
       "  <thead>\n",
       "    <tr style=\"text-align: right;\">\n",
       "      <th></th>\n",
       "      <th>rating</th>\n",
       "      <th>rating_count</th>\n",
       "      <th>installs</th>\n",
       "      <th>minimum_installs</th>\n",
       "      <th>maximum_installs</th>\n",
       "      <th>price</th>\n",
       "    </tr>\n",
       "  </thead>\n",
       "  <tbody>\n",
       "    <tr>\n",
       "      <th>rating</th>\n",
       "      <td>1.000000</td>\n",
       "      <td>0.013623</td>\n",
       "      <td>0.011597</td>\n",
       "      <td>0.011597</td>\n",
       "      <td>0.013073</td>\n",
       "      <td>-0.003790</td>\n",
       "    </tr>\n",
       "    <tr>\n",
       "      <th>rating_count</th>\n",
       "      <td>0.013623</td>\n",
       "      <td>1.000000</td>\n",
       "      <td>0.527729</td>\n",
       "      <td>0.527729</td>\n",
       "      <td>0.540637</td>\n",
       "      <td>-0.000419</td>\n",
       "    </tr>\n",
       "    <tr>\n",
       "      <th>installs</th>\n",
       "      <td>0.011597</td>\n",
       "      <td>0.527729</td>\n",
       "      <td>1.000000</td>\n",
       "      <td>1.000000</td>\n",
       "      <td>0.947887</td>\n",
       "      <td>-0.000474</td>\n",
       "    </tr>\n",
       "    <tr>\n",
       "      <th>minimum_installs</th>\n",
       "      <td>0.011597</td>\n",
       "      <td>0.527729</td>\n",
       "      <td>1.000000</td>\n",
       "      <td>1.000000</td>\n",
       "      <td>0.947887</td>\n",
       "      <td>-0.000474</td>\n",
       "    </tr>\n",
       "    <tr>\n",
       "      <th>maximum_installs</th>\n",
       "      <td>0.013073</td>\n",
       "      <td>0.540637</td>\n",
       "      <td>0.947887</td>\n",
       "      <td>0.947887</td>\n",
       "      <td>1.000000</td>\n",
       "      <td>-0.000532</td>\n",
       "    </tr>\n",
       "    <tr>\n",
       "      <th>price</th>\n",
       "      <td>-0.003790</td>\n",
       "      <td>-0.000419</td>\n",
       "      <td>-0.000474</td>\n",
       "      <td>-0.000474</td>\n",
       "      <td>-0.000532</td>\n",
       "      <td>1.000000</td>\n",
       "    </tr>\n",
       "  </tbody>\n",
       "</table>\n",
       "</div>"
      ],
      "text/plain": [
       "                    rating  rating_count  installs  minimum_installs  \\\n",
       "rating            1.000000      0.013623  0.011597          0.011597   \n",
       "rating_count      0.013623      1.000000  0.527729          0.527729   \n",
       "installs          0.011597      0.527729  1.000000          1.000000   \n",
       "minimum_installs  0.011597      0.527729  1.000000          1.000000   \n",
       "maximum_installs  0.013073      0.540637  0.947887          0.947887   \n",
       "price            -0.003790     -0.000419 -0.000474         -0.000474   \n",
       "\n",
       "                  maximum_installs     price  \n",
       "rating                    0.013073 -0.003790  \n",
       "rating_count              0.540637 -0.000419  \n",
       "installs                  0.947887 -0.000474  \n",
       "minimum_installs          0.947887 -0.000474  \n",
       "maximum_installs          1.000000 -0.000532  \n",
       "price                    -0.000532  1.000000  "
      ]
     },
     "execution_count": 113,
     "metadata": {},
     "output_type": "execute_result"
    }
   ],
   "source": [
    "numeric_columns = df.select_dtypes(include='number')\n",
    "correlation = numeric_columns.corr()\n",
    "correlation"
   ]
  },
  {
   "cell_type": "markdown",
   "id": "8ef5ebe5",
   "metadata": {},
   "source": [
    "# 4.1 Represent the relationships between different numerical variables using heatmap."
   ]
  },
  {
   "cell_type": "code",
   "execution_count": 116,
   "id": "3217d752",
   "metadata": {},
   "outputs": [
    {
     "data": {
      "image/png": "[encoded data removed]",
      "text/plain": [
       "<Figure size 864x720 with 2 Axes>"
      ]
     },
     "metadata": {
      "needs_background": "light"
     },
     "output_type": "display_data"
    }
   ],
   "source": [
    "plt.figure(figsize=(12, 10))\n",
    "sns.heatmap(correlation, annot=True, cmap='coolwarm', fmt=\".2f\",linewidths=.5)\n",
    "plt.title('Correlation Matrix Heatmap')\n",
    "plt.show()\n"
   ]
  },
  {
   "cell_type": "markdown",
   "id": "b8267db3",
   "metadata": {},
   "source": [
    "# 4.2 Boxplot to understand the distribution and variability of numerical data."
   ]
  },
  {
   "cell_type": "code",
   "execution_count": 117,
   "id": "7dd5fa79",
   "metadata": {},
   "outputs": [
    {
     "data": {
      "image/png": "[encoded data removed]",
      "text/plain": [
       "<Figure size 864x432 with 1 Axes>"
      ]
     },
     "metadata": {
      "needs_background": "light"
     },
     "output_type": "display_data"
    }
   ],
   "source": [
    "# filter out only the numerical columns.\n",
    "numerical_columns = df.select_dtypes(include='number').columns\n",
    "# Create box plots for numerical columns\n",
    "plt.figure(figsize=(12, 6))\n",
    "sns.boxplot(data=df[numerical_columns])\n",
    "plt.title('Box Plots for Numerical Columns')\n",
    "plt.show()\n"
   ]
  },
  {
   "cell_type": "markdown",
   "id": "c7da4f82",
   "metadata": {},
   "source": [
    "# 5. Question and Answers:\n",
    " - What are the top 10 Categories that are installed from the Google Play Store?\n",
    " - Which are the Categories that are getting installed the most in the top Categories?\n",
    " - which is the highest rated categories?\n",
    " - How does the size of the application impacts the installation?\n",
    " - What are the top 5 paid Apps based with highest ratings and installs?"
   ]
  },
  {
   "cell_type": "code",
   "execution_count": 119,
   "id": "909012f1",
   "metadata": {},
   "outputs": [
    {
     "data": {
      "text/plain": [
       "array(['Adventure', 'Tools', 'Productivity', 'Communication', 'Social',\n",
       "       'Libraries & Demo', 'Lifestyle', 'Personalization', 'Racing',\n",
       "       'Maps & Navigation', 'Travel & Local', 'Food & Drink',\n",
       "       'Books & Reference', 'Medical', 'Puzzle', 'Entertainment',\n",
       "       'Arcade', 'Auto & Vehicles', 'Photography', 'Health & Fitness',\n",
       "       'Education', 'Shopping', 'Board', 'Music & Audio', 'Sports',\n",
       "       'Beauty', 'Business', 'Educational', 'Finance', 'News & Magazines',\n",
       "       'Casual', 'Art & Design', 'House & Home', 'Card', 'Events',\n",
       "       'Trivia', 'Weather', 'Strategy', 'Word', 'Video Players & Editors',\n",
       "       'Action', 'Simulation', 'Music', 'Dating', 'Role Playing',\n",
       "       'Casino', 'Comics', 'Parenting'], dtype=object)"
      ]
     },
     "execution_count": 119,
     "metadata": {},
     "output_type": "execute_result"
    }
   ],
   "source": [
    "df['category'].unique()"
   ]
  },
  {
   "cell_type": "code",
   "execution_count": 120,
   "id": "8fd3cc2d",
   "metadata": {},
   "outputs": [],
   "source": [
    "top_category = df.category.value_counts().reset_index().rename(columns={'category':'Count','index':'category'})"
   ]
  },
  {
   "cell_type": "code",
   "execution_count": 121,
   "id": "160a3d84",
   "metadata": {},
   "outputs": [
    {
     "data": {
      "text/html": [
       "<div>\n",
       "<style scoped>\n",
       "    .dataframe tbody tr th:only-of-type {\n",
       "        vertical-align: middle;\n",
       "    }\n",
       "\n",
       "    .dataframe tbody tr th {\n",
       "        vertical-align: top;\n",
       "    }\n",
       "\n",
       "    .dataframe thead th {\n",
       "        text-align: right;\n",
       "    }\n",
       "</style>\n",
       "<table border=\"1\" class=\"dataframe\">\n",
       "  <thead>\n",
       "    <tr style=\"text-align: right;\">\n",
       "      <th></th>\n",
       "      <th>category</th>\n",
       "      <th>Count</th>\n",
       "    </tr>\n",
       "  </thead>\n",
       "  <tbody>\n",
       "    <tr>\n",
       "      <th>0</th>\n",
       "      <td>Education</td>\n",
       "      <td>236112</td>\n",
       "    </tr>\n",
       "    <tr>\n",
       "      <th>1</th>\n",
       "      <td>Music &amp; Audio</td>\n",
       "      <td>153451</td>\n",
       "    </tr>\n",
       "    <tr>\n",
       "      <th>2</th>\n",
       "      <td>Tools</td>\n",
       "      <td>138333</td>\n",
       "    </tr>\n",
       "    <tr>\n",
       "      <th>3</th>\n",
       "      <td>Business</td>\n",
       "      <td>136547</td>\n",
       "    </tr>\n",
       "    <tr>\n",
       "      <th>4</th>\n",
       "      <td>Entertainment</td>\n",
       "      <td>135485</td>\n",
       "    </tr>\n",
       "    <tr>\n",
       "      <th>5</th>\n",
       "      <td>Books &amp; Reference</td>\n",
       "      <td>115537</td>\n",
       "    </tr>\n",
       "    <tr>\n",
       "      <th>6</th>\n",
       "      <td>Lifestyle</td>\n",
       "      <td>115338</td>\n",
       "    </tr>\n",
       "    <tr>\n",
       "      <th>7</th>\n",
       "      <td>Personalization</td>\n",
       "      <td>88860</td>\n",
       "    </tr>\n",
       "    <tr>\n",
       "      <th>8</th>\n",
       "      <td>Health &amp; Fitness</td>\n",
       "      <td>80722</td>\n",
       "    </tr>\n",
       "    <tr>\n",
       "      <th>9</th>\n",
       "      <td>Productivity</td>\n",
       "      <td>75274</td>\n",
       "    </tr>\n",
       "    <tr>\n",
       "      <th>10</th>\n",
       "      <td>Shopping</td>\n",
       "      <td>71570</td>\n",
       "    </tr>\n",
       "    <tr>\n",
       "      <th>11</th>\n",
       "      <td>Food &amp; Drink</td>\n",
       "      <td>71022</td>\n",
       "    </tr>\n",
       "    <tr>\n",
       "      <th>12</th>\n",
       "      <td>Travel &amp; Local</td>\n",
       "      <td>64881</td>\n",
       "    </tr>\n",
       "    <tr>\n",
       "      <th>13</th>\n",
       "      <td>Finance</td>\n",
       "      <td>62125</td>\n",
       "    </tr>\n",
       "    <tr>\n",
       "      <th>14</th>\n",
       "      <td>Arcade</td>\n",
       "      <td>52490</td>\n",
       "    </tr>\n",
       "    <tr>\n",
       "      <th>15</th>\n",
       "      <td>Puzzle</td>\n",
       "      <td>49914</td>\n",
       "    </tr>\n",
       "    <tr>\n",
       "      <th>16</th>\n",
       "      <td>Casual</td>\n",
       "      <td>48872</td>\n",
       "    </tr>\n",
       "    <tr>\n",
       "      <th>17</th>\n",
       "      <td>Communication</td>\n",
       "      <td>46144</td>\n",
       "    </tr>\n",
       "    <tr>\n",
       "      <th>18</th>\n",
       "      <td>Sports</td>\n",
       "      <td>45813</td>\n",
       "    </tr>\n",
       "    <tr>\n",
       "      <th>19</th>\n",
       "      <td>Social</td>\n",
       "      <td>43132</td>\n",
       "    </tr>\n",
       "    <tr>\n",
       "      <th>20</th>\n",
       "      <td>News &amp; Magazines</td>\n",
       "      <td>41871</td>\n",
       "    </tr>\n",
       "    <tr>\n",
       "      <th>21</th>\n",
       "      <td>Photography</td>\n",
       "      <td>35163</td>\n",
       "    </tr>\n",
       "    <tr>\n",
       "      <th>22</th>\n",
       "      <td>Medical</td>\n",
       "      <td>30125</td>\n",
       "    </tr>\n",
       "    <tr>\n",
       "      <th>23</th>\n",
       "      <td>Action</td>\n",
       "      <td>26624</td>\n",
       "    </tr>\n",
       "    <tr>\n",
       "      <th>24</th>\n",
       "      <td>Maps &amp; Navigation</td>\n",
       "      <td>25051</td>\n",
       "    </tr>\n",
       "    <tr>\n",
       "      <th>25</th>\n",
       "      <td>Adventure</td>\n",
       "      <td>22540</td>\n",
       "    </tr>\n",
       "    <tr>\n",
       "      <th>26</th>\n",
       "      <td>Simulation</td>\n",
       "      <td>22476</td>\n",
       "    </tr>\n",
       "    <tr>\n",
       "      <th>27</th>\n",
       "      <td>Educational</td>\n",
       "      <td>20736</td>\n",
       "    </tr>\n",
       "    <tr>\n",
       "      <th>28</th>\n",
       "      <td>Art &amp; Design</td>\n",
       "      <td>18310</td>\n",
       "    </tr>\n",
       "    <tr>\n",
       "      <th>29</th>\n",
       "      <td>Auto &amp; Vehicles</td>\n",
       "      <td>16960</td>\n",
       "    </tr>\n",
       "    <tr>\n",
       "      <th>30</th>\n",
       "      <td>Video Players &amp; Editors</td>\n",
       "      <td>13716</td>\n",
       "    </tr>\n",
       "    <tr>\n",
       "      <th>31</th>\n",
       "      <td>House &amp; Home</td>\n",
       "      <td>13690</td>\n",
       "    </tr>\n",
       "    <tr>\n",
       "      <th>32</th>\n",
       "      <td>Events</td>\n",
       "      <td>12387</td>\n",
       "    </tr>\n",
       "    <tr>\n",
       "      <th>33</th>\n",
       "      <td>Trivia</td>\n",
       "      <td>11525</td>\n",
       "    </tr>\n",
       "    <tr>\n",
       "      <th>34</th>\n",
       "      <td>Beauty</td>\n",
       "      <td>11483</td>\n",
       "    </tr>\n",
       "    <tr>\n",
       "      <th>35</th>\n",
       "      <td>Board</td>\n",
       "      <td>10341</td>\n",
       "    </tr>\n",
       "    <tr>\n",
       "      <th>36</th>\n",
       "      <td>Racing</td>\n",
       "      <td>10152</td>\n",
       "    </tr>\n",
       "    <tr>\n",
       "      <th>37</th>\n",
       "      <td>Role Playing</td>\n",
       "      <td>9204</td>\n",
       "    </tr>\n",
       "    <tr>\n",
       "      <th>38</th>\n",
       "      <td>Word</td>\n",
       "      <td>8399</td>\n",
       "    </tr>\n",
       "    <tr>\n",
       "      <th>39</th>\n",
       "      <td>Strategy</td>\n",
       "      <td>8080</td>\n",
       "    </tr>\n",
       "    <tr>\n",
       "      <th>40</th>\n",
       "      <td>Card</td>\n",
       "      <td>7916</td>\n",
       "    </tr>\n",
       "    <tr>\n",
       "      <th>41</th>\n",
       "      <td>Weather</td>\n",
       "      <td>6961</td>\n",
       "    </tr>\n",
       "    <tr>\n",
       "      <th>42</th>\n",
       "      <td>Dating</td>\n",
       "      <td>6329</td>\n",
       "    </tr>\n",
       "    <tr>\n",
       "      <th>43</th>\n",
       "      <td>Casino</td>\n",
       "      <td>4924</td>\n",
       "    </tr>\n",
       "    <tr>\n",
       "      <th>44</th>\n",
       "      <td>Libraries &amp; Demo</td>\n",
       "      <td>4797</td>\n",
       "    </tr>\n",
       "    <tr>\n",
       "      <th>45</th>\n",
       "      <td>Music</td>\n",
       "      <td>4100</td>\n",
       "    </tr>\n",
       "    <tr>\n",
       "      <th>46</th>\n",
       "      <td>Parenting</td>\n",
       "      <td>3600</td>\n",
       "    </tr>\n",
       "    <tr>\n",
       "      <th>47</th>\n",
       "      <td>Comics</td>\n",
       "      <td>2768</td>\n",
       "    </tr>\n",
       "  </tbody>\n",
       "</table>\n",
       "</div>"
      ],
      "text/plain": [
       "                   category   Count\n",
       "0                 Education  236112\n",
       "1             Music & Audio  153451\n",
       "2                     Tools  138333\n",
       "3                  Business  136547\n",
       "4             Entertainment  135485\n",
       "5         Books & Reference  115537\n",
       "6                 Lifestyle  115338\n",
       "7           Personalization   88860\n",
       "8          Health & Fitness   80722\n",
       "9              Productivity   75274\n",
       "10                 Shopping   71570\n",
       "11             Food & Drink   71022\n",
       "12           Travel & Local   64881\n",
       "13                  Finance   62125\n",
       "14                   Arcade   52490\n",
       "15                   Puzzle   49914\n",
       "16                   Casual   48872\n",
       "17            Communication   46144\n",
       "18                   Sports   45813\n",
       "19                   Social   43132\n",
       "20         News & Magazines   41871\n",
       "21              Photography   35163\n",
       "22                  Medical   30125\n",
       "23                   Action   26624\n",
       "24        Maps & Navigation   25051\n",
       "25                Adventure   22540\n",
       "26               Simulation   22476\n",
       "27              Educational   20736\n",
       "28             Art & Design   18310\n",
       "29          Auto & Vehicles   16960\n",
       "30  Video Players & Editors   13716\n",
       "31             House & Home   13690\n",
       "32                   Events   12387\n",
       "33                   Trivia   11525\n",
       "34                   Beauty   11483\n",
       "35                    Board   10341\n",
       "36                   Racing   10152\n",
       "37             Role Playing    9204\n",
       "38                     Word    8399\n",
       "39                 Strategy    8080\n",
       "40                     Card    7916\n",
       "41                  Weather    6961\n",
       "42                   Dating    6329\n",
       "43                   Casino    4924\n",
       "44         Libraries & Demo    4797\n",
       "45                    Music    4100\n",
       "46                Parenting    3600\n",
       "47                   Comics    2768"
      ]
     },
     "execution_count": 121,
     "metadata": {},
     "output_type": "execute_result"
    }
   ],
   "source": [
    "top_category"
   ]
  },
  {
   "cell_type": "code",
   "execution_count": 122,
   "id": "b0dc9b5a",
   "metadata": {},
   "outputs": [],
   "source": [
    "category_installs = df.groupby(['category'])[['installs']].sum()"
   ]
  },
  {
   "cell_type": "code",
   "execution_count": 123,
   "id": "d9b0f4ab",
   "metadata": {},
   "outputs": [
    {
     "data": {
      "text/html": [
       "<div>\n",
       "<style scoped>\n",
       "    .dataframe tbody tr th:only-of-type {\n",
       "        vertical-align: middle;\n",
       "    }\n",
       "\n",
       "    .dataframe tbody tr th {\n",
       "        vertical-align: top;\n",
       "    }\n",
       "\n",
       "    .dataframe thead th {\n",
       "        text-align: right;\n",
       "    }\n",
       "</style>\n",
       "<table border=\"1\" class=\"dataframe\">\n",
       "  <thead>\n",
       "    <tr style=\"text-align: right;\">\n",
       "      <th></th>\n",
       "      <th>installs</th>\n",
       "    </tr>\n",
       "    <tr>\n",
       "      <th>category</th>\n",
       "      <th></th>\n",
       "    </tr>\n",
       "  </thead>\n",
       "  <tbody>\n",
       "    <tr>\n",
       "      <th>Action</th>\n",
       "      <td>17184431398</td>\n",
       "    </tr>\n",
       "    <tr>\n",
       "      <th>Adventure</th>\n",
       "      <td>5348983339</td>\n",
       "    </tr>\n",
       "    <tr>\n",
       "      <th>Arcade</th>\n",
       "      <td>14314350062</td>\n",
       "    </tr>\n",
       "    <tr>\n",
       "      <th>Art &amp; Design</th>\n",
       "      <td>1112587661</td>\n",
       "    </tr>\n",
       "    <tr>\n",
       "      <th>Auto &amp; Vehicles</th>\n",
       "      <td>1553117018</td>\n",
       "    </tr>\n",
       "    <tr>\n",
       "      <th>Beauty</th>\n",
       "      <td>399478934</td>\n",
       "    </tr>\n",
       "    <tr>\n",
       "      <th>Board</th>\n",
       "      <td>3272120484</td>\n",
       "    </tr>\n",
       "    <tr>\n",
       "      <th>Books &amp; Reference</th>\n",
       "      <td>4395200659</td>\n",
       "    </tr>\n",
       "    <tr>\n",
       "      <th>Business</th>\n",
       "      <td>4952909105</td>\n",
       "    </tr>\n",
       "    <tr>\n",
       "      <th>Card</th>\n",
       "      <td>1943526608</td>\n",
       "    </tr>\n",
       "    <tr>\n",
       "      <th>Casino</th>\n",
       "      <td>1209542377</td>\n",
       "    </tr>\n",
       "    <tr>\n",
       "      <th>Casual</th>\n",
       "      <td>16449386517</td>\n",
       "    </tr>\n",
       "    <tr>\n",
       "      <th>Comics</th>\n",
       "      <td>385092379</td>\n",
       "    </tr>\n",
       "    <tr>\n",
       "      <th>Communication</th>\n",
       "      <td>42851517743</td>\n",
       "    </tr>\n",
       "    <tr>\n",
       "      <th>Dating</th>\n",
       "      <td>629316188</td>\n",
       "    </tr>\n",
       "    <tr>\n",
       "      <th>Education</th>\n",
       "      <td>5900426105</td>\n",
       "    </tr>\n",
       "    <tr>\n",
       "      <th>Educational</th>\n",
       "      <td>4702007864</td>\n",
       "    </tr>\n",
       "    <tr>\n",
       "      <th>Entertainment</th>\n",
       "      <td>15687132768</td>\n",
       "    </tr>\n",
       "    <tr>\n",
       "      <th>Events</th>\n",
       "      <td>72382458</td>\n",
       "    </tr>\n",
       "    <tr>\n",
       "      <th>Finance</th>\n",
       "      <td>5281410046</td>\n",
       "    </tr>\n",
       "    <tr>\n",
       "      <th>Food &amp; Drink</th>\n",
       "      <td>1467159282</td>\n",
       "    </tr>\n",
       "    <tr>\n",
       "      <th>Health &amp; Fitness</th>\n",
       "      <td>4509516743</td>\n",
       "    </tr>\n",
       "    <tr>\n",
       "      <th>House &amp; Home</th>\n",
       "      <td>442043539</td>\n",
       "    </tr>\n",
       "    <tr>\n",
       "      <th>Libraries &amp; Demo</th>\n",
       "      <td>287452688</td>\n",
       "    </tr>\n",
       "    <tr>\n",
       "      <th>Lifestyle</th>\n",
       "      <td>5707170180</td>\n",
       "    </tr>\n",
       "    <tr>\n",
       "      <th>Maps &amp; Navigation</th>\n",
       "      <td>2424455867</td>\n",
       "    </tr>\n",
       "    <tr>\n",
       "      <th>Medical</th>\n",
       "      <td>636883955</td>\n",
       "    </tr>\n",
       "    <tr>\n",
       "      <th>Music</th>\n",
       "      <td>1611009310</td>\n",
       "    </tr>\n",
       "    <tr>\n",
       "      <th>Music &amp; Audio</th>\n",
       "      <td>12870366376</td>\n",
       "    </tr>\n",
       "    <tr>\n",
       "      <th>News &amp; Magazines</th>\n",
       "      <td>4357524098</td>\n",
       "    </tr>\n",
       "    <tr>\n",
       "      <th>Parenting</th>\n",
       "      <td>239898360</td>\n",
       "    </tr>\n",
       "    <tr>\n",
       "      <th>Personalization</th>\n",
       "      <td>9139626462</td>\n",
       "    </tr>\n",
       "    <tr>\n",
       "      <th>Photography</th>\n",
       "      <td>18837203748</td>\n",
       "    </tr>\n",
       "    <tr>\n",
       "      <th>Productivity</th>\n",
       "      <td>27787895697</td>\n",
       "    </tr>\n",
       "    <tr>\n",
       "      <th>Puzzle</th>\n",
       "      <td>10656147507</td>\n",
       "    </tr>\n",
       "    <tr>\n",
       "      <th>Racing</th>\n",
       "      <td>9081685333</td>\n",
       "    </tr>\n",
       "    <tr>\n",
       "      <th>Role Playing</th>\n",
       "      <td>4592172416</td>\n",
       "    </tr>\n",
       "    <tr>\n",
       "      <th>Shopping</th>\n",
       "      <td>6410932856</td>\n",
       "    </tr>\n",
       "    <tr>\n",
       "      <th>Simulation</th>\n",
       "      <td>11507039498</td>\n",
       "    </tr>\n",
       "    <tr>\n",
       "      <th>Social</th>\n",
       "      <td>11818324889</td>\n",
       "    </tr>\n",
       "    <tr>\n",
       "      <th>Sports</th>\n",
       "      <td>7767138892</td>\n",
       "    </tr>\n",
       "    <tr>\n",
       "      <th>Strategy</th>\n",
       "      <td>4101226892</td>\n",
       "    </tr>\n",
       "    <tr>\n",
       "      <th>Tools</th>\n",
       "      <td>63897745228</td>\n",
       "    </tr>\n",
       "    <tr>\n",
       "      <th>Travel &amp; Local</th>\n",
       "      <td>4483549946</td>\n",
       "    </tr>\n",
       "    <tr>\n",
       "      <th>Trivia</th>\n",
       "      <td>1152698415</td>\n",
       "    </tr>\n",
       "    <tr>\n",
       "      <th>Video Players &amp; Editors</th>\n",
       "      <td>17975980826</td>\n",
       "    </tr>\n",
       "    <tr>\n",
       "      <th>Weather</th>\n",
       "      <td>2486282870</td>\n",
       "    </tr>\n",
       "    <tr>\n",
       "      <th>Word</th>\n",
       "      <td>1993846450</td>\n",
       "    </tr>\n",
       "  </tbody>\n",
       "</table>\n",
       "</div>"
      ],
      "text/plain": [
       "                            installs\n",
       "category                            \n",
       "Action                   17184431398\n",
       "Adventure                 5348983339\n",
       "Arcade                   14314350062\n",
       "Art & Design              1112587661\n",
       "Auto & Vehicles           1553117018\n",
       "Beauty                     399478934\n",
       "Board                     3272120484\n",
       "Books & Reference         4395200659\n",
       "Business                  4952909105\n",
       "Card                      1943526608\n",
       "Casino                    1209542377\n",
       "Casual                   16449386517\n",
       "Comics                     385092379\n",
       "Communication            42851517743\n",
       "Dating                     629316188\n",
       "Education                 5900426105\n",
       "Educational               4702007864\n",
       "Entertainment            15687132768\n",
       "Events                      72382458\n",
       "Finance                   5281410046\n",
       "Food & Drink              1467159282\n",
       "Health & Fitness          4509516743\n",
       "House & Home               442043539\n",
       "Libraries & Demo           287452688\n",
       "Lifestyle                 5707170180\n",
       "Maps & Navigation         2424455867\n",
       "Medical                    636883955\n",
       "Music                     1611009310\n",
       "Music & Audio            12870366376\n",
       "News & Magazines          4357524098\n",
       "Parenting                  239898360\n",
       "Personalization           9139626462\n",
       "Photography              18837203748\n",
       "Productivity             27787895697\n",
       "Puzzle                   10656147507\n",
       "Racing                    9081685333\n",
       "Role Playing              4592172416\n",
       "Shopping                  6410932856\n",
       "Simulation               11507039498\n",
       "Social                   11818324889\n",
       "Sports                    7767138892\n",
       "Strategy                  4101226892\n",
       "Tools                    63897745228\n",
       "Travel & Local            4483549946\n",
       "Trivia                    1152698415\n",
       "Video Players & Editors  17975980826\n",
       "Weather                   2486282870\n",
       "Word                      1993846450"
      ]
     },
     "execution_count": 123,
     "metadata": {},
     "output_type": "execute_result"
    }
   ],
   "source": [
    "category_installs"
   ]
  },
  {
   "cell_type": "code",
   "execution_count": 124,
   "id": "e9263bc8",
   "metadata": {},
   "outputs": [
    {
     "data": {
      "text/html": [
       "<div>\n",
       "<style scoped>\n",
       "    .dataframe tbody tr th:only-of-type {\n",
       "        vertical-align: middle;\n",
       "    }\n",
       "\n",
       "    .dataframe tbody tr th {\n",
       "        vertical-align: top;\n",
       "    }\n",
       "\n",
       "    .dataframe thead th {\n",
       "        text-align: right;\n",
       "    }\n",
       "</style>\n",
       "<table border=\"1\" class=\"dataframe\">\n",
       "  <thead>\n",
       "    <tr style=\"text-align: right;\">\n",
       "      <th></th>\n",
       "      <th>category</th>\n",
       "      <th>Count</th>\n",
       "      <th>installs</th>\n",
       "    </tr>\n",
       "  </thead>\n",
       "  <tbody>\n",
       "    <tr>\n",
       "      <th>0</th>\n",
       "      <td>Education</td>\n",
       "      <td>236112</td>\n",
       "      <td>5900426105</td>\n",
       "    </tr>\n",
       "    <tr>\n",
       "      <th>1</th>\n",
       "      <td>Music &amp; Audio</td>\n",
       "      <td>153451</td>\n",
       "      <td>12870366376</td>\n",
       "    </tr>\n",
       "    <tr>\n",
       "      <th>2</th>\n",
       "      <td>Tools</td>\n",
       "      <td>138333</td>\n",
       "      <td>63897745228</td>\n",
       "    </tr>\n",
       "    <tr>\n",
       "      <th>3</th>\n",
       "      <td>Business</td>\n",
       "      <td>136547</td>\n",
       "      <td>4952909105</td>\n",
       "    </tr>\n",
       "    <tr>\n",
       "      <th>4</th>\n",
       "      <td>Entertainment</td>\n",
       "      <td>135485</td>\n",
       "      <td>15687132768</td>\n",
       "    </tr>\n",
       "    <tr>\n",
       "      <th>5</th>\n",
       "      <td>Books &amp; Reference</td>\n",
       "      <td>115537</td>\n",
       "      <td>4395200659</td>\n",
       "    </tr>\n",
       "    <tr>\n",
       "      <th>6</th>\n",
       "      <td>Lifestyle</td>\n",
       "      <td>115338</td>\n",
       "      <td>5707170180</td>\n",
       "    </tr>\n",
       "    <tr>\n",
       "      <th>7</th>\n",
       "      <td>Personalization</td>\n",
       "      <td>88860</td>\n",
       "      <td>9139626462</td>\n",
       "    </tr>\n",
       "    <tr>\n",
       "      <th>8</th>\n",
       "      <td>Health &amp; Fitness</td>\n",
       "      <td>80722</td>\n",
       "      <td>4509516743</td>\n",
       "    </tr>\n",
       "    <tr>\n",
       "      <th>9</th>\n",
       "      <td>Productivity</td>\n",
       "      <td>75274</td>\n",
       "      <td>27787895697</td>\n",
       "    </tr>\n",
       "  </tbody>\n",
       "</table>\n",
       "</div>"
      ],
      "text/plain": [
       "            category   Count     installs\n",
       "0          Education  236112   5900426105\n",
       "1      Music & Audio  153451  12870366376\n",
       "2              Tools  138333  63897745228\n",
       "3           Business  136547   4952909105\n",
       "4      Entertainment  135485  15687132768\n",
       "5  Books & Reference  115537   4395200659\n",
       "6          Lifestyle  115338   5707170180\n",
       "7    Personalization   88860   9139626462\n",
       "8   Health & Fitness   80722   4509516743\n",
       "9       Productivity   75274  27787895697"
      ]
     },
     "execution_count": 124,
     "metadata": {},
     "output_type": "execute_result"
    }
   ],
   "source": [
    "top_category_installs = pd.merge(top_category, category_installs, on='category')\n",
    "top_category_installs.head(10)"
   ]
  },
  {
   "cell_type": "code",
   "execution_count": 125,
   "id": "baf32804",
   "metadata": {},
   "outputs": [],
   "source": [
    "top_10_categories_installs = top_category_installs.head(10).sort_values(by = ['installs'], ascending= False)"
   ]
  },
  {
   "cell_type": "code",
   "execution_count": 126,
   "id": "1884983a",
   "metadata": {},
   "outputs": [
    {
     "data": {
      "text/plain": [
       "<AxesSubplot:title={'center':'Top 10 installed categories'}, xlabel='category', ylabel='installs'>"
      ]
     },
     "execution_count": 126,
     "metadata": {},
     "output_type": "execute_result"
    },
    {
     "data": {
      "image/png": "[encoded data removed]",
      "text/plain": [
       "<Figure size 1008x504 with 1 Axes>"
      ]
     },
     "metadata": {
      "needs_background": "light"
     },
     "output_type": "display_data"
    }
   ],
   "source": [
    "plt.figure(figsize=(14,7))\n",
    "plt.xticks(rotation=60)\n",
    "plt.xlabel(\"category\")\n",
    "plt.ylabel(\"Number of applications\")\n",
    "plt.title(\"Top 10 installed categories\")\n",
    "sns.barplot(x= top_10_categories_installs.category, y = top_10_categories_installs.installs)"
   ]
  },
  {
   "cell_type": "markdown",
   "id": "4d056a18",
   "metadata": {},
   "source": [
    "# What are the 10 Categories in playstore as per the count?"
   ]
  },
  {
   "cell_type": "code",
   "execution_count": 127,
   "id": "88c14c8c",
   "metadata": {},
   "outputs": [
    {
     "data": {
      "text/plain": [
       "<AxesSubplot:title={'center':'top 10 categories'}, xlabel='category', ylabel='Count'>"
      ]
     },
     "execution_count": 127,
     "metadata": {},
     "output_type": "execute_result"
    },
    {
     "data": {
      "image/png": "[encoded data removed]",
      "text/plain": [
       "<Figure size 1008x504 with 1 Axes>"
      ]
     },
     "metadata": {
      "needs_background": "light"
     },
     "output_type": "display_data"
    }
   ],
   "source": [
    "plt.figure(figsize=(14,7))\n",
    "plt.xticks(rotation=60)\n",
    "plt.xlabel(\"category\")\n",
    "plt.ylabel(\"Number of applications\")\n",
    "plt.title(\"top 10 categories\")\n",
    "sns.barplot(x = top_10_categories_installs.category, y = top_10_categories_installs.Count)"
   ]
  },
  {
   "cell_type": "markdown",
   "id": "dd30301f",
   "metadata": {},
   "source": [
    "# Visulize total Categories and the Count of Apps in each Catgory"
   ]
  },
  {
   "cell_type": "code",
   "execution_count": 128,
   "id": "32fae4b1",
   "metadata": {},
   "outputs": [
    {
     "data": {
      "text/plain": [
       "<AxesSubplot:title={'center':'Total categories and count of Applications in each category'}, xlabel='category', ylabel='Count'>"
      ]
     },
     "execution_count": 128,
     "metadata": {},
     "output_type": "execute_result"
    },
    {
     "data": {
      "image/png": "[encoded data removed]",
      "text/plain": [
       "<Figure size 1008x504 with 1 Axes>"
      ]
     },
     "metadata": {
      "needs_background": "light"
     },
     "output_type": "display_data"
    }
   ],
   "source": [
    "plt.figure(figsize=(14,7))\n",
    "plt.xticks(rotation=90)\n",
    "plt.xlabel(\"category_installs\")\n",
    "plt.ylabel(\"Number of applications\")\n",
    "plt.title(\"Total categories and count of Applications in each category\")\n",
    "sns.barplot(x = top_category_installs.category, y =top_category_installs.Count)"
   ]
  },
  {
   "cell_type": "markdown",
   "id": "b15ecad5",
   "metadata": {},
   "source": [
    "# Visualize Total Categories and installed Applications in each category"
   ]
  },
  {
   "cell_type": "code",
   "execution_count": 129,
   "id": "cd6552f1",
   "metadata": {},
   "outputs": [
    {
     "data": {
      "text/plain": [
       "<AxesSubplot:title={'center':'Total categories and Installation of Applications in each category'}, xlabel='category', ylabel='installs'>"
      ]
     },
     "execution_count": 129,
     "metadata": {},
     "output_type": "execute_result"
    },
    {
     "data": {
      "image/png": "[encoded data removed]",
      "text/plain": [
       "<Figure size 1008x504 with 1 Axes>"
      ]
     },
     "metadata": {
      "needs_background": "light"
     },
     "output_type": "display_data"
    }
   ],
   "source": [
    "plt.figure(figsize=(14,7))\n",
    "plt.xticks(rotation=90)\n",
    "plt.xlabel(\"category\")\n",
    "plt.ylabel(\"Number of applications\")\n",
    "plt.title(\"Total categories and Installation of Applications in each category\")\n",
    "sns.barplot(x = top_category_installs.category, y =top_category_installs.installs)"
   ]
  },
  {
   "cell_type": "markdown",
   "id": "798c7158",
   "metadata": {},
   "source": [
    "# Rating Distribution "
   ]
  },
  {
   "cell_type": "code",
   "execution_count": 131,
   "id": "d9616a27",
   "metadata": {},
   "outputs": [
    {
     "data": {
      "text/plain": [
       "Text(0.5, 1.0, 'Distribution of rating')"
      ]
     },
     "execution_count": 131,
     "metadata": {},
     "output_type": "execute_result"
    },
    {
     "data": {
      "image/png": "[encoded data removed]",
      "text/plain": [
       "<Figure size 1008x504 with 1 Axes>"
      ]
     },
     "metadata": {
      "needs_background": "light"
     },
     "output_type": "display_data"
    }
   ],
   "source": [
    "plt.figure(figsize=(14,7))\n",
    "g = sns.kdeplot(df.rating, color=\"Blue\", shade= True)\n",
    "g.set_xlabel(\"rating\")\n",
    "g.set_ylabel(\"Frequency\")\n",
    "plt.title('Distribution of rating', size = 20)"
   ]
  },
  {
   "cell_type": "code",
   "execution_count": 132,
   "id": "1af0dbe6",
   "metadata": {},
   "outputs": [
    {
     "data": {
      "text/plain": [
       "<AxesSubplot:title={'center':'rating'}, xlabel='rating', ylabel='Count'>"
      ]
     },
     "execution_count": 132,
     "metadata": {},
     "output_type": "execute_result"
    },
    {
     "data": {
      "image/png": "[encoded data removed]",
      "text/plain": [
       "<Figure size 432x288 with 1 Axes>"
      ]
     },
     "metadata": {
      "needs_background": "light"
     },
     "output_type": "display_data"
    }
   ],
   "source": [
    "plt.title(\"rating\")\n",
    "sns.histplot(df.rating, kde=True,bins=5)"
   ]
  },
  {
   "cell_type": "markdown",
   "id": "4fdc5750",
   "metadata": {},
   "source": [
    "# Observation\n",
    "From the above two plots we can see that most people does not give a rating, but one more thing that comes out from this graph as well is that people tend to give 4+ rating the most"
   ]
  },
  {
   "cell_type": "markdown",
   "id": "91e7835e",
   "metadata": {},
   "source": [
    "# Q. What is highest rated category?"
   ]
  },
  {
   "cell_type": "code",
   "execution_count": 133,
   "id": "9ef7fda5",
   "metadata": {},
   "outputs": [
    {
     "data": {
      "text/plain": [
       "<AxesSubplot:title={'center':'All Categories Rating '}, xlabel='category', ylabel='rating'>"
      ]
     },
     "execution_count": 133,
     "metadata": {},
     "output_type": "execute_result"
    },
    {
     "data": {
      "image/png": "[encoded data removed]",
      "text/plain": [
       "<Figure size 1008x504 with 1 Axes>"
      ]
     },
     "metadata": {
      "needs_background": "light"
     },
     "output_type": "display_data"
    }
   ],
   "source": [
    "plt.figure(figsize=(14,7))\n",
    "plt.xticks(rotation=90)\n",
    "plt.xlabel(\"Higest Rated Category\")\n",
    "plt.ylabel(\"Number of applications\")\n",
    "plt.title(\"All Categories Rating \")\n",
    "sns.barplot(x = df.category, y = df.rating)"
   ]
  },
  {
   "cell_type": "markdown",
   "id": "883e19a7",
   "metadata": {},
   "source": [
    "# Ans- From the above plot we can see that Role Playing is the Highest Rated Category"
   ]
  },
  {
   "cell_type": "code",
   "execution_count": 135,
   "id": "8a7ce711",
   "metadata": {},
   "outputs": [
    {
     "data": {
      "text/plain": [
       "array(['Everyone', 'Teen', 'Adults'], dtype=object)"
      ]
     },
     "execution_count": 135,
     "metadata": {},
     "output_type": "execute_result"
    }
   ],
   "source": [
    "df['content_rating'].unique()"
   ]
  },
  {
   "cell_type": "code",
   "execution_count": 136,
   "id": "42f087cf",
   "metadata": {},
   "outputs": [
    {
     "data": {
      "text/plain": [
       "<AxesSubplot:title={'center':'Content Rating and Maximum installations '}, xlabel='maximum_installs', ylabel='rating_count'>"
      ]
     },
     "execution_count": 136,
     "metadata": {},
     "output_type": "execute_result"
    },
    {
     "data": {
      "image/png": "[encoded data removed]",
      "text/plain": [
       "<Figure size 576x576 with 1 Axes>"
      ]
     },
     "metadata": {
      "needs_background": "light"
     },
     "output_type": "display_data"
    }
   ],
   "source": [
    "plt.figure(figsize=(8,8))\n",
    "plt.title(\"Content Rating and Maximum installations \")\n",
    "sns.scatterplot(x = 'maximum_installs', y ='rating_count',data=df, hue='content_rating')"
   ]
  },
  {
   "cell_type": "markdown",
   "id": "7cef82e8",
   "metadata": {},
   "source": [
    "# Observation\n",
    "\n",
    " This scatter plot shows us that : if we exclude everyone from the plot and when focus on teen and Adults we can see that teens have much engagement in terms of downloads and rating Count."
   ]
  },
  {
   "cell_type": "code",
   "execution_count": 137,
   "id": "c0f8fcfb",
   "metadata": {},
   "outputs": [
    {
     "data": {
      "text/plain": [
       "(0, 10000000000)"
      ]
     },
     "execution_count": 137,
     "metadata": {},
     "output_type": "execute_result"
    }
   ],
   "source": [
    "# Visulize the installation Types in each category\n",
    "\n",
    "df['installs'].min(),df['installs'].max()"
   ]
  },
  {
   "cell_type": "markdown",
   "id": "5c47d590",
   "metadata": {},
   "source": [
    "there is high variance in the number of installs, we need to reduce it so we can use a log value for this column,otherwise it would be unable to see the data when we visulize"
   ]
  },
  {
   "cell_type": "code",
   "execution_count": 138,
   "id": "9b7f4f5c",
   "metadata": {},
   "outputs": [],
   "source": [
    "category_type_installs = df.groupby(['category'])[['installs']].sum().reset_index()\n",
    "category_type_installs['log_installs'] = np.log10(category_type_installs['installs'])"
   ]
  },
  {
   "cell_type": "code",
   "execution_count": 139,
   "id": "95842923",
   "metadata": {},
   "outputs": [
    {
     "data": {
      "text/plain": [
       "<AxesSubplot:title={'center':'Number of installed Apps type wise according to Category'}, xlabel='category', ylabel='log_installs'>"
      ]
     },
     "execution_count": 139,
     "metadata": {},
     "output_type": "execute_result"
    },
    {
     "data": {
      "image/png": "[encoded data removed]",
      "text/plain": [
       "<Figure size 1296x648 with 1 Axes>"
      ]
     },
     "metadata": {
      "needs_background": "light"
     },
     "output_type": "display_data"
    }
   ],
   "source": [
    "plt.figure(figsize=(18,9))\n",
    "plt.xticks(rotation=65, fontsize=9)\n",
    "plt.xlabel(\"category\")\n",
    "plt.ylabel(\"installs\")\n",
    "plt.title(\"Number of installed Apps type wise according to Category\")\n",
    "sns.barplot(x= 'category', y = 'log_installs',  data=category_type_installs)"
   ]
  },
  {
   "cell_type": "markdown",
   "id": "59ec6b18",
   "metadata": {},
   "source": [
    "# Ans - from the above plot we can see that size impacts the number of installations. Applications with lager size are less installed by the end user."
   ]
  },
  {
   "cell_type": "code",
   "execution_count": 140,
   "id": "4b42899d",
   "metadata": {},
   "outputs": [
    {
     "data": {
      "text/html": [
       "<div>\n",
       "<style scoped>\n",
       "    .dataframe tbody tr th:only-of-type {\n",
       "        vertical-align: middle;\n",
       "    }\n",
       "\n",
       "    .dataframe tbody tr th {\n",
       "        vertical-align: top;\n",
       "    }\n",
       "\n",
       "    .dataframe thead th {\n",
       "        text-align: right;\n",
       "    }\n",
       "</style>\n",
       "<table border=\"1\" class=\"dataframe\">\n",
       "  <thead>\n",
       "    <tr style=\"text-align: right;\">\n",
       "      <th></th>\n",
       "      <th>rating</th>\n",
       "      <th>rating_count</th>\n",
       "      <th>installs</th>\n",
       "      <th>minimum_installs</th>\n",
       "      <th>maximum_installs</th>\n",
       "      <th>price</th>\n",
       "      <th>ad_supported</th>\n",
       "      <th>in_app_purchases</th>\n",
       "    </tr>\n",
       "  </thead>\n",
       "  <tbody>\n",
       "    <tr>\n",
       "      <th>rating</th>\n",
       "      <td>1.000000</td>\n",
       "      <td>0.013623</td>\n",
       "      <td>0.011597</td>\n",
       "      <td>0.011597</td>\n",
       "      <td>0.013073</td>\n",
       "      <td>-0.003790</td>\n",
       "      <td>0.160564</td>\n",
       "      <td>0.154579</td>\n",
       "    </tr>\n",
       "    <tr>\n",
       "      <th>rating_count</th>\n",
       "      <td>0.013623</td>\n",
       "      <td>1.000000</td>\n",
       "      <td>0.527729</td>\n",
       "      <td>0.527729</td>\n",
       "      <td>0.540637</td>\n",
       "      <td>-0.000419</td>\n",
       "      <td>0.005243</td>\n",
       "      <td>0.026428</td>\n",
       "    </tr>\n",
       "    <tr>\n",
       "      <th>installs</th>\n",
       "      <td>0.011597</td>\n",
       "      <td>0.527729</td>\n",
       "      <td>1.000000</td>\n",
       "      <td>1.000000</td>\n",
       "      <td>0.947887</td>\n",
       "      <td>-0.000474</td>\n",
       "      <td>0.002112</td>\n",
       "      <td>0.014857</td>\n",
       "    </tr>\n",
       "    <tr>\n",
       "      <th>minimum_installs</th>\n",
       "      <td>0.011597</td>\n",
       "      <td>0.527729</td>\n",
       "      <td>1.000000</td>\n",
       "      <td>1.000000</td>\n",
       "      <td>0.947887</td>\n",
       "      <td>-0.000474</td>\n",
       "      <td>0.002112</td>\n",
       "      <td>0.014857</td>\n",
       "    </tr>\n",
       "    <tr>\n",
       "      <th>maximum_installs</th>\n",
       "      <td>0.013073</td>\n",
       "      <td>0.540637</td>\n",
       "      <td>0.947887</td>\n",
       "      <td>0.947887</td>\n",
       "      <td>1.000000</td>\n",
       "      <td>-0.000532</td>\n",
       "      <td>0.002755</td>\n",
       "      <td>0.016942</td>\n",
       "    </tr>\n",
       "    <tr>\n",
       "      <th>price</th>\n",
       "      <td>-0.003790</td>\n",
       "      <td>-0.000419</td>\n",
       "      <td>-0.000474</td>\n",
       "      <td>-0.000474</td>\n",
       "      <td>-0.000532</td>\n",
       "      <td>1.000000</td>\n",
       "      <td>-0.035049</td>\n",
       "      <td>-0.002762</td>\n",
       "    </tr>\n",
       "    <tr>\n",
       "      <th>ad_supported</th>\n",
       "      <td>0.160564</td>\n",
       "      <td>0.005243</td>\n",
       "      <td>0.002112</td>\n",
       "      <td>0.002112</td>\n",
       "      <td>0.002755</td>\n",
       "      <td>-0.035049</td>\n",
       "      <td>1.000000</td>\n",
       "      <td>0.135435</td>\n",
       "    </tr>\n",
       "    <tr>\n",
       "      <th>in_app_purchases</th>\n",
       "      <td>0.154579</td>\n",
       "      <td>0.026428</td>\n",
       "      <td>0.014857</td>\n",
       "      <td>0.014857</td>\n",
       "      <td>0.016942</td>\n",
       "      <td>-0.002762</td>\n",
       "      <td>0.135435</td>\n",
       "      <td>1.000000</td>\n",
       "    </tr>\n",
       "  </tbody>\n",
       "</table>\n",
       "</div>"
      ],
      "text/plain": [
       "                    rating  rating_count  installs  minimum_installs  \\\n",
       "rating            1.000000      0.013623  0.011597          0.011597   \n",
       "rating_count      0.013623      1.000000  0.527729          0.527729   \n",
       "installs          0.011597      0.527729  1.000000          1.000000   \n",
       "minimum_installs  0.011597      0.527729  1.000000          1.000000   \n",
       "maximum_installs  0.013073      0.540637  0.947887          0.947887   \n",
       "price            -0.003790     -0.000419 -0.000474         -0.000474   \n",
       "ad_supported      0.160564      0.005243  0.002112          0.002112   \n",
       "in_app_purchases  0.154579      0.026428  0.014857          0.014857   \n",
       "\n",
       "                  maximum_installs     price  ad_supported  in_app_purchases  \n",
       "rating                    0.013073 -0.003790      0.160564          0.154579  \n",
       "rating_count              0.540637 -0.000419      0.005243          0.026428  \n",
       "installs                  0.947887 -0.000474      0.002112          0.014857  \n",
       "minimum_installs          0.947887 -0.000474      0.002112          0.014857  \n",
       "maximum_installs          1.000000 -0.000532      0.002755          0.016942  \n",
       "price                    -0.000532  1.000000     -0.035049         -0.002762  \n",
       "ad_supported              0.002755 -0.035049      1.000000          0.135435  \n",
       "in_app_purchases          0.016942 -0.002762      0.135435          1.000000  "
      ]
     },
     "execution_count": 140,
     "metadata": {},
     "output_type": "execute_result"
    }
   ],
   "source": [
    "df.corr()"
   ]
  },
  {
   "cell_type": "code",
   "execution_count": 155,
   "id": "0ad981aa",
   "metadata": {},
   "outputs": [
    {
     "data": {
      "image/png": "[encoded data removed]",
      "text/plain": [
       "<Figure size 576x432 with 2 Axes>"
      ]
     },
     "metadata": {},
     "output_type": "display_data"
    }
   ],
   "source": [
    "import seaborn as sns\n",
    "import matplotlib.pyplot as plt\n",
    "\n",
    "plt.figure(figsize=(8, 6))\n",
    "sns.heatmap(df.corr(), annot=True, cbar=True, cmap='coolwarm')\n",
    "plt.show()\n"
   ]
  },
  {
   "cell_type": "markdown",
   "id": "57ad9cf9",
   "metadata": {},
   "source": [
    "# Q - what are the Top 5 Free Apps based with highest rating and Installs?"
   ]
  },
  {
   "cell_type": "code",
   "execution_count": 144,
   "id": "abe91518",
   "metadata": {},
   "outputs": [],
   "source": [
    "free_apps = df[(df.type=='Free') & (df.installs >= 5000000)]\n",
    "free_apps = free_apps.groupby('app_name')['rating'].max().sort_values(ascending= False)\n",
    "free_apps = free_apps.head(5)"
   ]
  },
  {
   "cell_type": "code",
   "execution_count": 145,
   "id": "9765a6fd",
   "metadata": {},
   "outputs": [
    {
     "data": {
      "text/plain": [
       "<AxesSubplot:title={'center':'Top 5 Free Rated Apps'}, xlabel='rating', ylabel='app_name'>"
      ]
     },
     "execution_count": 145,
     "metadata": {},
     "output_type": "execute_result"
    },
    {
     "data": {
      "image/png": "[encoded data removed]",
      "text/plain": [
       "<Figure size 576x288 with 1 Axes>"
      ]
     },
     "metadata": {
      "needs_background": "light"
     },
     "output_type": "display_data"
    }
   ],
   "source": [
    "plt.figure(figsize=(8,4))\n",
    "plt.xlabel(\"rating\")\n",
    "sns.set_theme(style=\"whitegrid\")\n",
    "plt.title(\"Top 5 Free Rated Apps\")\n",
    "sns.lineplot(x= free_apps.values, y =free_apps.index,color='Blue')"
   ]
  },
  {
   "cell_type": "markdown",
   "id": "a9e6f267",
   "metadata": {},
   "source": [
    "# Ans - Photo Frame, Video maker with photo & music, kuku FM - Love stories, Audio Books & Podcasts, Plank Workout a Home."
   ]
  },
  {
   "cell_type": "markdown",
   "id": "050d2ef9",
   "metadata": {},
   "source": [
    "# Now, Visulize the categories that have the top 10 Max Installations"
   ]
  },
  {
   "cell_type": "code",
   "execution_count": 146,
   "id": "20cf0d37",
   "metadata": {},
   "outputs": [
    {
     "data": {
      "text/plain": [
       "Text(0.5, 1.0, 'Top 10 Max installations Category wise')"
      ]
     },
     "execution_count": 146,
     "metadata": {},
     "output_type": "execute_result"
    },
    {
     "data": {
      "image/png": "[encoded data removed]",
      "text/plain": [
       "<Figure size 576x432 with 1 Axes>"
      ]
     },
     "metadata": {},
     "output_type": "display_data"
    }
   ],
   "source": [
    "plt.figure(figsize=(8,6))\n",
    "data = df.groupby('category')['maximum_installs'].max().sort_values(ascending = True)\n",
    "data = data.head(10)\n",
    "labels = data.keys()\n",
    "plt.pie(data, labels= labels, autopct='%0f%%')\n",
    "plt.title(\"Top 10 Max installations Category wise\", fontsize=14)"
   ]
  },
  {
   "cell_type": "markdown",
   "id": "22fea373",
   "metadata": {},
   "source": [
    "# Visulize the top 10 installation categories that adults have installed the most"
   ]
  },
  {
   "cell_type": "code",
   "execution_count": 148,
   "id": "9393ee19",
   "metadata": {},
   "outputs": [
    {
     "data": {
      "text/plain": [
       "array(['Everyone', 'Teen', 'Adults'], dtype=object)"
      ]
     },
     "execution_count": 148,
     "metadata": {},
     "output_type": "execute_result"
    }
   ],
   "source": [
    "df['content_rating'].unique()"
   ]
  },
  {
   "cell_type": "code",
   "execution_count": 149,
   "id": "d24a7e43",
   "metadata": {},
   "outputs": [
    {
     "data": {
      "text/plain": [
       "Text(0.5, 1.0, 'Adults Installing apps in terms of category')"
      ]
     },
     "execution_count": 149,
     "metadata": {},
     "output_type": "execute_result"
    },
    {
     "data": {
      "image/png": "[encoded data removed]",
      "text/plain": [
       "<Figure size 576x432 with 1 Axes>"
      ]
     },
     "metadata": {},
     "output_type": "display_data"
    }
   ],
   "source": [
    "plt.figure(figsize=(8,6))\n",
    "Adult = df[(df['content_rating']=='Adults')]\n",
    "Adult = Adult.groupby(['category'])['maximum_installs'].max().sort_values(ascending=False)\n",
    "Adult = Adult.head(10)\n",
    "labels = Adult.keys()\n",
    "plt.pie(x = Adult, autopct=\"%.1f%%\", labels=labels)\n",
    "plt.title(\"Adults Installing apps in terms of category\", fontsize=14)"
   ]
  },
  {
   "cell_type": "markdown",
   "id": "f216a176",
   "metadata": {},
   "source": [
    "# Observation :\n",
    "\n",
    "- Most of the Adults showing interest in download the social, Action and Communication Category"
   ]
  },
  {
   "cell_type": "markdown",
   "id": "03ae85e5",
   "metadata": {},
   "source": [
    "# Visulize Teens Installing the apps in terms of Category"
   ]
  },
  {
   "cell_type": "code",
   "execution_count": 151,
   "id": "3b5d6b42",
   "metadata": {},
   "outputs": [
    {
     "data": {
      "text/plain": [
       "Text(0.5, 1.0, 'Teen Installing apps in terms of category')"
      ]
     },
     "execution_count": 151,
     "metadata": {},
     "output_type": "execute_result"
    },
    {
     "data": {
      "image/png": "[encoded data removed]",
      "text/plain": [
       "<Figure size 576x432 with 1 Axes>"
      ]
     },
     "metadata": {},
     "output_type": "display_data"
    }
   ],
   "source": [
    "plt.figure(figsize=(8,6))\n",
    "Teen = df[(df['content_rating']=='Teen')]\n",
    "Teen = Teen.groupby(['category'])['maximum_installs'].max().sort_values(ascending=False)\n",
    "Teen = Teen.head(10)\n",
    "labels = Teen.keys()\n",
    "plt.pie(x= Teen, autopct=\"%.1f%%\", labels=labels)\n",
    "plt.title(\"Teen Installing apps in terms of category\")"
   ]
  },
  {
   "cell_type": "markdown",
   "id": "2e6fb8ac",
   "metadata": {},
   "source": [
    "# Summary and Conclusion:\n",
    "\n",
    "- People are more interested to install the gamming Apps, the top Rating is given to the gaming apps.\n",
    "- InAppPurchase are correlated to App Rating. So we can say that if app provides customers support and have subscription plans it will helps to engage customers.\n",
    "- Most of the Adults installed the social and communication Apps.\n",
    "- Most of the installation are done by teen and the most are vidio players and editors. Video players and editors are most in demand.\n",
    "- Size of application varies the installation.\n",
    "- People aare mostly downloaded the free apps \n",
    "- The installation of free apps is High\n",
    "- The availability of the free apps is very high."
   ]
  },
  {
   "cell_type": "code",
   "execution_count": 156,
   "id": "9f023264",
   "metadata": {},
   "outputs": [
    {
     "name": "stdout",
     "output_type": "stream",
     "text": [
      "Top 10 Rated Apps:\n"
     ]
    },
    {
     "data": {
      "text/html": [
       "<div>\n",
       "<style scoped>\n",
       "    .dataframe tbody tr th:only-of-type {\n",
       "        vertical-align: middle;\n",
       "    }\n",
       "\n",
       "    .dataframe tbody tr th {\n",
       "        vertical-align: top;\n",
       "    }\n",
       "\n",
       "    .dataframe thead th {\n",
       "        text-align: right;\n",
       "    }\n",
       "</style>\n",
       "<table border=\"1\" class=\"dataframe\">\n",
       "  <thead>\n",
       "    <tr style=\"text-align: right;\">\n",
       "      <th></th>\n",
       "      <th>app_name</th>\n",
       "      <th>rating</th>\n",
       "      <th>category</th>\n",
       "    </tr>\n",
       "  </thead>\n",
       "  <tbody>\n",
       "    <tr>\n",
       "      <th>385470</th>\n",
       "      <td>WhatsApp Messenger</td>\n",
       "      <td>4.0</td>\n",
       "      <td>Communication</td>\n",
       "    </tr>\n",
       "    <tr>\n",
       "      <th>304824</th>\n",
       "      <td>Instagram</td>\n",
       "      <td>3.8</td>\n",
       "      <td>Social</td>\n",
       "    </tr>\n",
       "    <tr>\n",
       "      <th>881403</th>\n",
       "      <td>YouTube</td>\n",
       "      <td>4.4</td>\n",
       "      <td>Video Players &amp; Editors</td>\n",
       "    </tr>\n",
       "    <tr>\n",
       "      <th>244319</th>\n",
       "      <td>Garena Free Fire - Rampage</td>\n",
       "      <td>4.2</td>\n",
       "      <td>Action</td>\n",
       "    </tr>\n",
       "    <tr>\n",
       "      <th>2095852</th>\n",
       "      <td>Messenger – Text and Video Chat for Free</td>\n",
       "      <td>4.0</td>\n",
       "      <td>Communication</td>\n",
       "    </tr>\n",
       "    <tr>\n",
       "      <th>423997</th>\n",
       "      <td>Clash of Clans</td>\n",
       "      <td>4.5</td>\n",
       "      <td>Strategy</td>\n",
       "    </tr>\n",
       "    <tr>\n",
       "      <th>58082</th>\n",
       "      <td>PUBG MOBILE - Traverse</td>\n",
       "      <td>4.3</td>\n",
       "      <td>Action</td>\n",
       "    </tr>\n",
       "    <tr>\n",
       "      <th>65037</th>\n",
       "      <td>TikTok</td>\n",
       "      <td>4.4</td>\n",
       "      <td>Social</td>\n",
       "    </tr>\n",
       "    <tr>\n",
       "      <th>1830962</th>\n",
       "      <td>Google Photos</td>\n",
       "      <td>4.5</td>\n",
       "      <td>Photography</td>\n",
       "    </tr>\n",
       "    <tr>\n",
       "      <th>2155096</th>\n",
       "      <td>Google Play services</td>\n",
       "      <td>4.2</td>\n",
       "      <td>Tools</td>\n",
       "    </tr>\n",
       "  </tbody>\n",
       "</table>\n",
       "</div>"
      ],
      "text/plain": [
       "                                         app_name  rating  \\\n",
       "385470                         WhatsApp Messenger     4.0   \n",
       "304824                                  Instagram     3.8   \n",
       "881403                                    YouTube     4.4   \n",
       "244319                 Garena Free Fire - Rampage     4.2   \n",
       "2095852  Messenger – Text and Video Chat for Free     4.0   \n",
       "423997                             Clash of Clans     4.5   \n",
       "58082                      PUBG MOBILE - Traverse     4.3   \n",
       "65037                                      TikTok     4.4   \n",
       "1830962                             Google Photos     4.5   \n",
       "2155096                      Google Play services     4.2   \n",
       "\n",
       "                        category  \n",
       "385470             Communication  \n",
       "304824                    Social  \n",
       "881403   Video Players & Editors  \n",
       "244319                    Action  \n",
       "2095852            Communication  \n",
       "423997                  Strategy  \n",
       "58082                     Action  \n",
       "65037                     Social  \n",
       "1830962              Photography  \n",
       "2155096                    Tools  "
      ]
     },
     "execution_count": 156,
     "metadata": {},
     "output_type": "execute_result"
    }
   ],
   "source": [
    "# Step 1: Sort the DataFrame 'df' by 'rating_count' in descending order\n",
    "# Step 2: Select the top 10 rows from the sorted DataFrame\n",
    "# Step 3: Select only the columns 'app_name', 'rating', and 'category' for the top-rated apps\n",
    "top_rated_apps = df.sort_values(by='rating_count', ascending=False).head(10)[['app_name', 'rating', 'category']]\n",
    "\n",
    "# Step 4: Print a message indicating that the following apps are the top 10 rated\n",
    "print(\"Top 10 Rated Apps:\")\n",
    "\n",
    "# Step 5: Display the DataFrame containing the top-rated apps\n",
    "top_rated_apps"
   ]
  },
  {
   "cell_type": "markdown",
   "id": "1dab26c9",
   "metadata": {},
   "source": [
    "# Q. Which is the percentage of Paid and Free apps?"
   ]
  },
  {
   "cell_type": "code",
   "execution_count": 2,
   "id": "f322ac6e",
   "metadata": {},
   "outputs": [
    {
     "ename": "NameError",
     "evalue": "name 'plt' is not defined",
     "output_type": "error",
     "traceback": [
      "\u001b[1;31m-------------------------------------------------------------------\u001b[0m",
      "\u001b[1;31mNameError\u001b[0m                         Traceback (most recent call last)",
      "Input \u001b[1;32mIn [2]\u001b[0m, in \u001b[0;36m<cell line: 2>\u001b[1;34m()\u001b[0m\n\u001b[0;32m      1\u001b[0m \u001b[38;5;66;03m# Step 1: Set the size of the figure\u001b[39;00m\n\u001b[1;32m----> 2\u001b[0m \u001b[43mplt\u001b[49m\u001b[38;5;241m.\u001b[39mfigure(figsize\u001b[38;5;241m=\u001b[39m(\u001b[38;5;241m8\u001b[39m, \u001b[38;5;241m8\u001b[39m))\n\u001b[0;32m      4\u001b[0m \u001b[38;5;66;03m# Step 2: Calculate the count of each category in the 'free' column\u001b[39;00m\n\u001b[0;32m      5\u001b[0m count \u001b[38;5;241m=\u001b[39m df[\u001b[38;5;124m'\u001b[39m\u001b[38;5;124mtype\u001b[39m\u001b[38;5;124m'\u001b[39m]\u001b[38;5;241m.\u001b[39mvalue_counts()\n",
      "\u001b[1;31mNameError\u001b[0m: name 'plt' is not defined"
     ]
    }
   ],
   "source": [
    "# Step 1: Set the size of the figure\n",
    "plt.figure(figsize=(8, 8))\n",
    "\n",
    "# Step 2: Calculate the count of each category in the 'free' column\n",
    "count = df['type'].value_counts()\n",
    "\n",
    "# Step 3: Create a pie chart using the count, explode the 'Free' slice (to emphasize it), \n",
    "# set labels, autopct for percentage display, shadow for 3D effect, and startangle for rotation\n",
    "plt.pie(count, explode=(0.25,0), labels=['free', 'Paid'], autopct='%1.1f%%', shadow=True, startangle=135)\n",
    "\n",
    "# Step 4: Set the title of the pie chart\n",
    "plt.title('Percent of Free Vs Paid Apps in store', size = 16)\n",
    "\n",
    "# Step 5: Show the plot\n",
    "plt.show()"
   ]
  },
  {
   "cell_type": "markdown",
   "id": "35a82403",
   "metadata": {},
   "source": [
    "# Observation\n",
    "\n",
    "- 2% of Apps are Paid\n",
    "- 98% of Apps are Free\n"
   ]
  },
  {
   "cell_type": "markdown",
   "id": "7a1486b8",
   "metadata": {},
   "source": []
  },
  {
   "cell_type": "code",
   "execution_count": null,
   "id": "24dc188b",
   "metadata": {},
   "outputs": [],
   "source": []
  }
 ],
 "metadata": {
  "kernelspec": {
   "display_name": "Python 3 (ipykernel)",
   "language": "python",
   "name": "python3"
  },
  "language_info": {
   "codemirror_mode": {
    "name": "ipython",
    "version": 3
   },
   "file_extension": ".py",
   "mimetype": "text/x-python",
   "name": "python",
   "nbconvert_exporter": "python",
   "pygments_lexer": "ipython3",
   "version": "3.9.12"
  }
 },
 "nbformat": 4,
 "nbformat_minor": 5
}
